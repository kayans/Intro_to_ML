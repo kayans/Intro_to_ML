{
 "cells": [
  {
   "cell_type": "markdown",
   "metadata": {
    "deletable": false,
    "editable": false,
    "nbgrader": {
     "cell_type": "markdown",
     "checksum": "f185af325bcd27e7663c646c28356607",
     "grade": false,
     "grade_id": "cell-09dbf3eb90251b69",
     "locked": true,
     "schema_version": 3,
     "solution": false,
     "task": false
    },
    "tags": []
   },
   "source": [
    "# Homework 1: Math Foundations for ML\n",
    "\n",
    "The is the coding potion of Homework 1. The homework is aimed at testing the ability to code up mathematical operations using Python and the `numpy` library.\n",
    "\n",
    "For each problem, we provide hints or example test cases to check your answers (see the `assert` statements below). Your full submission will be autograded on a larger batch of randomly generated test cases.\n",
    "\n",
    "\n",
    "##  Note on the autograding process\n",
    "For this assignment, we are using `nbgrader` for autograding. We recommend that you use JupyterLab or Jupyter notebook to complete this assignment for compatibility.\n",
    "\n",
    "The cells containing example test cases also serve as placeholders for the autograder to know where to inject additional random tests. Notice that they are always after your solution; moving/deleting them will cause the tests to fail, and we'd have to manually regrade it. They are marked with `DO NOT MOVE/DELETE` and set to read-only just in case.\n",
    "\n",
    "The autograder tests will call the functions named `solve_system`, `split_into_train_and_test`, `closest_interval`. You may not change the function signature (function name and argument list), but otherwise feel free to add helper functions in your solution. You can also make a copy of the notebook and use that as a scratchpad.\n",
    "\n",
    "To double check your submission format, restart your kernel (Menu bar -> Kernel -> Restart Kernel); execute all cells from top to bottom, and see if you can pass the example test cases."
   ]
  },
  {
   "cell_type": "code",
   "execution_count": 6,
   "metadata": {
    "tags": []
   },
   "outputs": [],
   "source": [
    "import numpy as np\n",
    "import re"
   ]
  },
  {
   "cell_type": "markdown",
   "metadata": {
    "deletable": false,
    "editable": false,
    "nbgrader": {
     "cell_type": "markdown",
     "checksum": "f4d6e0aa9b28354e5a5b65f08a5875f9",
     "grade": false,
     "grade_id": "cell-f886a62cc6289004",
     "locked": true,
     "schema_version": 3,
     "solution": false,
     "task": false
    },
    "tags": []
   },
   "source": [
    "## Part 1: Systems of linear equations\n",
    "\n",
    "Given $n$ equations with $n$ unknown variables ($n \\leq 4$), write a function `solve_system` that can solve this system of equations and produce an output of value for each variable such that the system of equations is satisfied.\n",
    "\n",
    "The system of equations will be provided as a list of strings as seen in `test_eq`.\n",
    "\n",
    "You may assume that the variables are always in $\\{ a, b, c, d \\}$, the system has a unique solution, and all coefficients are integers."
   ]
  },
  {
   "cell_type": "code",
   "execution_count": 14,
   "metadata": {
    "deletable": false,
    "nbgrader": {
     "cell_type": "code",
     "checksum": "93ee70dc1bc00fd6531cbc4f3ba69354",
     "grade": false,
     "grade_id": "p1",
     "locked": false,
     "schema_version": 3,
     "solution": true,
     "task": false
    },
    "tags": []
   },
   "outputs": [
    {
     "name": "stdout",
     "output_type": "stream",
     "text": [
      "2\n",
      "3\n",
      "9\n",
      "5\n",
      "4\n",
      "14\n",
      "2\n",
      "10\n",
      "7\n",
      "2\n",
      "13\n"
     ]
    }
   ],
   "source": [
    "def solve_system(equations):\n",
    "    \"\"\"\"\n",
    "    Takes in a list of strings for each equation.\n",
    "    Returns a numpy array with a row for each equation value\n",
    "    \"\"\"\n",
    "    # YOUR CODE HERE\n",
    "    for eq in equations:\n",
    "        num_arr = map(int, re.findall(r'\\d+', eq))\n",
    "        for ele in num_arr:\n",
    "            print(ele)\n",
    "    # raise NotImplementedError()\n",
    "    \n",
    "def test_eq(sys_eq):\n",
    "    results = solve_system(sys_eq)\n",
    "\n",
    "test_eq([\n",
    "    '2 a + b - 3 c + d = 9',\n",
    "    '-5 a + b - 4 c + d = -14',\n",
    "    'a + 2 b - 10 c = -7',\n",
    "    'a + 2 b = 13',\n",
    "])"
   ]
  },
  {
   "cell_type": "code",
   "execution_count": 8,
   "metadata": {
    "deletable": false,
    "editable": false,
    "nbgrader": {
     "cell_type": "code",
     "checksum": "1b248a189d521f834855b1cb494d464e",
     "grade": true,
     "grade_id": "p1-tests",
     "locked": true,
     "points": 1,
     "schema_version": 3,
     "solution": false,
     "task": false
    },
    "tags": []
   },
   "outputs": [
    {
     "name": "stdout",
     "output_type": "stream",
     "text": [
      "<map object at 0x7ff06d5dcbe0>\n",
      "<map object at 0x7ff06d5dcb80>\n",
      "<map object at 0x7ff06d5dc400>\n",
      "<map object at 0x7ff06d5dc340>\n"
     ]
    },
    {
     "ename": "NotImplementedError",
     "evalue": "",
     "output_type": "error",
     "traceback": [
      "\u001b[0;31m---------------------------------------------------------------------------\u001b[0m",
      "\u001b[0;31mNotImplementedError\u001b[0m                       Traceback (most recent call last)",
      "\u001b[0;32m/var/folders/58/cjbbd0796879t133cn69jms80000gn/T/ipykernel_86278/1270473321.py\u001b[0m in \u001b[0;36m<module>\u001b[0;34m\u001b[0m\n\u001b[1;32m      7\u001b[0m     \u001b[0;32massert\u001b[0m \u001b[0mnp\u001b[0m\u001b[0;34m.\u001b[0m\u001b[0mallclose\u001b[0m\u001b[0;34m(\u001b[0m\u001b[0mexpected\u001b[0m\u001b[0;34m,\u001b[0m \u001b[0mresults\u001b[0m\u001b[0;34m)\u001b[0m\u001b[0;34m\u001b[0m\u001b[0;34m\u001b[0m\u001b[0m\n\u001b[1;32m      8\u001b[0m \u001b[0;34m\u001b[0m\u001b[0m\n\u001b[0;32m----> 9\u001b[0;31m test_eq([\n\u001b[0m\u001b[1;32m     10\u001b[0m     \u001b[0;34m'2 a + b - 3 c + d = 9'\u001b[0m\u001b[0;34m,\u001b[0m\u001b[0;34m\u001b[0m\u001b[0;34m\u001b[0m\u001b[0m\n\u001b[1;32m     11\u001b[0m     \u001b[0;34m'-5 a + b - 4 c + d = -14'\u001b[0m\u001b[0;34m,\u001b[0m\u001b[0;34m\u001b[0m\u001b[0;34m\u001b[0m\u001b[0m\n",
      "\u001b[0;32m/var/folders/58/cjbbd0796879t133cn69jms80000gn/T/ipykernel_86278/1270473321.py\u001b[0m in \u001b[0;36mtest_eq\u001b[0;34m(sys_eq)\u001b[0m\n\u001b[1;32m      3\u001b[0m \u001b[0;34m\u001b[0m\u001b[0m\n\u001b[1;32m      4\u001b[0m \u001b[0;32mdef\u001b[0m \u001b[0mtest_eq\u001b[0m\u001b[0;34m(\u001b[0m\u001b[0msys_eq\u001b[0m\u001b[0;34m)\u001b[0m\u001b[0;34m:\u001b[0m\u001b[0;34m\u001b[0m\u001b[0;34m\u001b[0m\u001b[0m\n\u001b[0;32m----> 5\u001b[0;31m     \u001b[0mresults\u001b[0m \u001b[0;34m=\u001b[0m \u001b[0msolve_system\u001b[0m\u001b[0;34m(\u001b[0m\u001b[0msys_eq\u001b[0m\u001b[0;34m)\u001b[0m\u001b[0;34m\u001b[0m\u001b[0;34m\u001b[0m\u001b[0m\n\u001b[0m\u001b[1;32m      6\u001b[0m     \u001b[0mexpected\u001b[0m \u001b[0;34m=\u001b[0m \u001b[0mnp\u001b[0m\u001b[0;34m.\u001b[0m\u001b[0marray\u001b[0m\u001b[0;34m(\u001b[0m\u001b[0;34m[\u001b[0m\u001b[0;34m[\u001b[0m\u001b[0;36m3\u001b[0m\u001b[0;34m]\u001b[0m\u001b[0;34m,\u001b[0m\u001b[0;34m[\u001b[0m\u001b[0;36m5\u001b[0m\u001b[0;34m]\u001b[0m\u001b[0;34m,\u001b[0m\u001b[0;34m[\u001b[0m\u001b[0;36m2\u001b[0m\u001b[0;34m]\u001b[0m\u001b[0;34m,\u001b[0m\u001b[0;34m[\u001b[0m\u001b[0;36m4\u001b[0m\u001b[0;34m]\u001b[0m\u001b[0;34m]\u001b[0m\u001b[0;34m)\u001b[0m\u001b[0;34m\u001b[0m\u001b[0;34m\u001b[0m\u001b[0m\n\u001b[1;32m      7\u001b[0m     \u001b[0;32massert\u001b[0m \u001b[0mnp\u001b[0m\u001b[0;34m.\u001b[0m\u001b[0mallclose\u001b[0m\u001b[0;34m(\u001b[0m\u001b[0mexpected\u001b[0m\u001b[0;34m,\u001b[0m \u001b[0mresults\u001b[0m\u001b[0;34m)\u001b[0m\u001b[0;34m\u001b[0m\u001b[0;34m\u001b[0m\u001b[0m\n",
      "\u001b[0;32m/var/folders/58/cjbbd0796879t133cn69jms80000gn/T/ipykernel_86278/3485102478.py\u001b[0m in \u001b[0;36msolve_system\u001b[0;34m(equations)\u001b[0m\n\u001b[1;32m      8\u001b[0m         \u001b[0mnum_arr\u001b[0m \u001b[0;34m=\u001b[0m \u001b[0mmap\u001b[0m\u001b[0;34m(\u001b[0m\u001b[0mint\u001b[0m\u001b[0;34m,\u001b[0m \u001b[0mre\u001b[0m\u001b[0;34m.\u001b[0m\u001b[0mfindall\u001b[0m\u001b[0;34m(\u001b[0m\u001b[0;34mr'\\d+'\u001b[0m\u001b[0;34m,\u001b[0m \u001b[0meq\u001b[0m\u001b[0;34m)\u001b[0m\u001b[0;34m)\u001b[0m\u001b[0;34m\u001b[0m\u001b[0;34m\u001b[0m\u001b[0m\n\u001b[1;32m      9\u001b[0m         \u001b[0mprint\u001b[0m\u001b[0;34m(\u001b[0m\u001b[0mnum_arr\u001b[0m\u001b[0;34m)\u001b[0m\u001b[0;34m\u001b[0m\u001b[0;34m\u001b[0m\u001b[0m\n\u001b[0;32m---> 10\u001b[0;31m     \u001b[0;32mraise\u001b[0m \u001b[0mNotImplementedError\u001b[0m\u001b[0;34m(\u001b[0m\u001b[0;34m)\u001b[0m\u001b[0;34m\u001b[0m\u001b[0;34m\u001b[0m\u001b[0m\n\u001b[0m",
      "\u001b[0;31mNotImplementedError\u001b[0m: "
     ]
    }
   ],
   "source": [
    "# === DO NOT MOVE/DELETE ===\n",
    "# This cell is used as a placeholder for autograder script injection.\n",
    "\n",
    "def test_eq(sys_eq):\n",
    "    results = solve_system(sys_eq)\n",
    "    expected = np.array([[3],[5],[2],[4]])\n",
    "    assert np.allclose(expected, results)\n",
    "\n",
    "test_eq([\n",
    "    '2 a + b - 3 c + d = 9',\n",
    "    '-5 a + b - 4 c + d = -14',\n",
    "    'a + 2 b - 10 c = -7',\n",
    "    'a + 2 b = 13',\n",
    "])"
   ]
  },
  {
   "cell_type": "markdown",
   "metadata": {
    "deletable": false,
    "editable": false,
    "nbgrader": {
     "cell_type": "markdown",
     "checksum": "6a964c02b010649a20e0f6b3b3c2cd54",
     "grade": false,
     "grade_id": "cell-957dc104d02f6eea",
     "locked": true,
     "schema_version": 3,
     "solution": false,
     "task": false
    },
    "tags": []
   },
   "source": [
    "## Part 2: Split a dataset into test and train\n",
    "(For this question, using an existing implementation (e.g. `sklearn.model_selection.train_test_split`) will give 0 points.)\n",
    "\n",
    "In supervised learning, the dataset is usually split into a train set (on which the model is trained) and a test set (to evaluate the trained model). This part of the homework requires writing a function `split_into_train_and_test` that takes a dataset and the train-test split ratio as input and provides the data split as an output. The function takes a `random_state` variable as input which when kept the same outputs the same split for multiple runs of the function.\n",
    "\n",
    "Note: if `frac_test` does not result in an integer test set size, round down to the nearest integer.\n",
    "\n",
    "Hints:\n",
    "- The input array `x_all_LF` should not be altered after the function call.\n",
    "- Running the function with the same seed multiple times should yield the same results.\n",
    "- Every element in the input array should appear either in the train or test set, but not in both."
   ]
  },
  {
   "cell_type": "code",
   "execution_count": null,
   "metadata": {
    "deletable": false,
    "nbgrader": {
     "cell_type": "code",
     "checksum": "34c279f057dba3fa3256d223570b41e6",
     "grade": false,
     "grade_id": "p2",
     "locked": false,
     "schema_version": 3,
     "solution": true,
     "task": false
    },
    "tags": []
   },
   "outputs": [],
   "source": [
    "def split_into_train_and_test(x_all_LF, frac_test=0.5, seed=None):\n",
    "    ''' Divide provided array into train and test sets along first dimension\n",
    "    User can provide random number generator object to ensure reproducibility.\n",
    "    Args\n",
    "    ----\n",
    "    x_all_LF : 2D np.array, shape = (n_total_examples, n_features) (L, F)\n",
    "        Each row is a feature vector\n",
    "    frac_test : float, fraction between 0 and 1\n",
    "        Indicates fraction of all L examples to allocate to the \"test\" set\n",
    "        Returned test set will round UP if frac_test * L is not an integer.\n",
    "        e.g. if L = 10 and frac_test = 0.31, then test set has N=4 examples\n",
    "    seed : integer or None\n",
    "        If int, will create RandomState instance with provided value as seed\n",
    "        If None, defaults to current numpy random number generator np.random.\n",
    "    Returns\n",
    "    -------\n",
    "    x_train_MF : 2D np.array, shape = (n_train_examples, n_features) (M, F)\n",
    "        Each row is a feature vector\n",
    "        Should be a separately allocated array, NOT a view of any input array\n",
    "    x_test_NF : 2D np.array, shape = (n_test_examples, n_features) (N, F)\n",
    "        Each row is a feature vector\n",
    "        Should be a separately allocated array, NOT a view of any input array\n",
    "    Post Condition\n",
    "    --------------\n",
    "    This function should be side-effect free. Provided input array x_all_LF\n",
    "    should not change at all (not be shuffled, etc.)\n",
    "    Examples\n",
    "    --------\n",
    "    >>> x_LF = np.eye(10)\n",
    "    >>> xcopy_LF = x_LF.copy() # preserve what input was before the call\n",
    "    >>> train_MF, test_NF = split_into_train_and_test(\n",
    "    ...     x_LF, frac_test=0.201, random_state=np.random.RandomState(0))\n",
    "    >>> train_MF.shape\n",
    "    (7, 10)\n",
    "    >>> test_NF.shape\n",
    "    (3, 10)\n",
    "    >>> print(train_MF)\n",
    "    [[0. 0. 1. 0. 0. 0. 0. 0. 0. 0.]\n",
    "     [0. 0. 0. 0. 0. 0. 0. 0. 1. 0.]\n",
    "     [0. 0. 0. 0. 1. 0. 0. 0. 0. 0.]\n",
    "     [0. 0. 0. 0. 0. 0. 0. 0. 0. 1.]\n",
    "     [0. 1. 0. 0. 0. 0. 0. 0. 0. 0.]\n",
    "     [0. 0. 0. 0. 0. 0. 1. 0. 0. 0.]\n",
    "     [0. 0. 0. 0. 0. 0. 0. 1. 0. 0.]]\n",
    "    >>> print(test_NF)\n",
    "    [[0. 0. 0. 1. 0. 0. 0. 0. 0. 0.]\n",
    "     [1. 0. 0. 0. 0. 0. 0. 0. 0. 0.]\n",
    "     [0. 0. 0. 0. 0. 1. 0. 0. 0. 0.]]\n",
    "    ## Verify that input array did not change due to function call\n",
    "    >>> np.allclose(x_LF, xcopy_LF)\n",
    "    True\n",
    "    References\n",
    "    ----------\n",
    "    For more about RandomState, see:\n",
    "    https://stackoverflow.com/questions/28064634/random-state-pseudo-random-numberin-scikit-learn\n",
    "    '''\n",
    "    if seed is None:\n",
    "        rng = np.random.RandomState()\n",
    "    \n",
    "    # YOUR CODE HERE\n",
    "    raise NotImplementedError()"
   ]
  },
  {
   "cell_type": "code",
   "execution_count": null,
   "metadata": {
    "deletable": false,
    "editable": false,
    "nbgrader": {
     "cell_type": "code",
     "checksum": "98154f110c799c32d0620cf1bf23d2e3",
     "grade": true,
     "grade_id": "p2-tests",
     "locked": true,
     "points": 1,
     "schema_version": 3,
     "solution": false,
     "task": false
    },
    "tags": []
   },
   "outputs": [],
   "source": [
    "# === DO NOT MOVE/DELETE ===\n",
    "# This cell is used as a placeholder for autograder script injection.\n",
    "\n",
    "N = 10\n",
    "x_LF = np.eye(N)\n",
    "xcopy_LF = x_LF.copy() # preserve what input was before the call\n",
    "train_MF, test_NF = split_into_train_and_test(x_LF, frac_test=0.2, seed=0)"
   ]
  },
  {
   "cell_type": "markdown",
   "metadata": {
    "deletable": false,
    "editable": false,
    "nbgrader": {
     "cell_type": "markdown",
     "checksum": "6f57a660882827858dc3b85976f1f9a6",
     "grade": false,
     "grade_id": "cell-d6dbcda21f585ba9",
     "locked": true,
     "schema_version": 3,
     "solution": false,
     "task": false
    },
    "tags": []
   },
   "source": [
    "### Part 3: Solving a Search Problem\n",
    "\n",
    "Given a list of N intervals, for each interval $[a, b]$, we want to find the closest non-overlapping interval $[c, d]$ greater than $[a, b]$.\n",
    "\n",
    "An interval $[c, d]$ is greater than an non-overlapping interval $[a, b]$ if $a < b < c < d$.\n",
    "\n",
    "The function `closest_interval` takes in the list of intervals, and returns a list of indices corresponding to the index of the closest non-overlapping interval for each interval in the list. If a particular interval does not have a closest non-overlapping interval in the given list, return `-1` corresponding to that element in the list."
   ]
  },
  {
   "cell_type": "code",
   "execution_count": null,
   "metadata": {
    "deletable": false,
    "nbgrader": {
     "cell_type": "code",
     "checksum": "5839957120e309bad21d6c9e69ff2ff9",
     "grade": false,
     "grade_id": "p3",
     "locked": false,
     "schema_version": 3,
     "solution": true,
     "task": false
    },
    "tags": []
   },
   "outputs": [],
   "source": [
    "def closest_interval(intervals):\n",
    "    # YOUR CODE HERE\n",
    "    raise NotImplementedError()"
   ]
  },
  {
   "cell_type": "code",
   "execution_count": null,
   "metadata": {
    "deletable": false,
    "editable": false,
    "nbgrader": {
     "cell_type": "code",
     "checksum": "f00e49835e898eebed4822130d2b4671",
     "grade": true,
     "grade_id": "p3-tests",
     "locked": true,
     "points": 1,
     "schema_version": 3,
     "solution": false,
     "task": false
    },
    "tags": []
   },
   "outputs": [],
   "source": [
    "# === DO NOT MOVE/DELETE ===\n",
    "# This cell is used as a placeholder for autograder script injection.\n",
    "\n",
    "intervals = np.array([\n",
    "    [1, 4],\n",
    "    [2, 5],\n",
    "    [8, 9],\n",
    "    [6, 8],\n",
    "    [9, 10],\n",
    "    [3, 4],\n",
    "    [7, 9],\n",
    "    [5, 7],\n",
    "])\n",
    "\n",
    "expected_closest_intervals = closest_interval(intervals)\n",
    "\n",
    "# Evaluate\n",
    "results = np.array([7, 3, -1, 4, -1, 7, -1, 2])\n",
    "assert np.allclose(expected_closest_intervals, results)"
   ]
  }
 ],
 "metadata": {
  "kernelspec": {
   "display_name": "Python 3 (ipykernel)",
   "language": "python",
   "name": "python3"
  },
  "language_info": {
   "codemirror_mode": {
    "name": "ipython",
    "version": 3
   },
   "file_extension": ".py",
   "mimetype": "text/x-python",
   "name": "python",
   "nbconvert_exporter": "python",
   "pygments_lexer": "ipython3",
   "version": "3.9.7"
  },
  "vscode": {
   "interpreter": {
    "hash": "dc90815e8da7690082f9352aee8edfa03718c5bca40fd7efd8718e85b8c4d334"
   }
  }
 },
 "nbformat": 4,
 "nbformat_minor": 4
}
