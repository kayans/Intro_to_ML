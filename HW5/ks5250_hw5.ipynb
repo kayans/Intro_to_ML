{
  "cells": [
    {
      "cell_type": "markdown",
      "metadata": {
        "id": "e2MRZUS5ly18"
      },
      "source": [
        "# Homework 5: Neural Networks (100 points)\n",
        "\n",
        "In this homework, you will be implementing a fully connected neural network and a convolutional neural network using the PyTorch framework."
      ]
    },
    {
      "cell_type": "code",
      "execution_count": 1,
      "metadata": {
        "id": "Epq6ylMLly2B"
      },
      "outputs": [],
      "source": [
        "import torch\n",
        "import torch.nn as nn\n",
        "import torch.nn.functional as F\n",
        "import torch.optim as optim\n",
        "import torchvision\n",
        "from torchvision import datasets, transforms\n",
        "import matplotlib.pyplot as plt\n",
        "import numpy as np"
      ]
    },
    {
      "cell_type": "code",
      "execution_count": 2,
      "metadata": {
        "id": "h5f3yoP1ly2E"
      },
      "outputs": [],
      "source": [
        "device = torch.device(\"cuda:0\" if torch.cuda.is_available() else \"cpu\")"
      ]
    },
    {
      "cell_type": "markdown",
      "metadata": {
        "id": "NbMBROOJly2F"
      },
      "source": [
        "## Load the Dataset (MNIST)\n",
        "\n",
        "We can use some PyTorch DataLoader utilities for this. This will download, shuffle, normalize data and arrange it in batches."
      ]
    },
    {
      "cell_type": "code",
      "execution_count": 3,
      "metadata": {
        "colab": {
          "base_uri": "https://localhost:8080/",
          "height": 423,
          "referenced_widgets": [
            "fa00b01e18f2455282842144b6264eea",
            "a56801dec872438788b01835bce62869",
            "b494c650ee5b4798bbadd653dd5ddc19",
            "a460799e735e420684a47f67586521d3",
            "f629f1fccf4c46c8aae10773de80f371",
            "0dc0431ef28b4f608f400d53d0c32223",
            "bf76b73b03064cb5b36d54f44d338e89",
            "e93ec6b5ba39459c81ad2594fb33965f",
            "a42490273c4f4347a730a2b1bf0b6825",
            "ffd7770cf0ed403db204fae6521ecb65",
            "8e05dfe56a964f69b1854d133379bcc0",
            "85137cf755344a86ac31b8f73881ba0d",
            "1784f7758a9b426590694e021a2728fc",
            "38f9d9cec305426da63b05eda959b336",
            "27ee4fa106f84a61bc21c88bce8294ac",
            "c2e394c1432c47fa82d73be6e8a5175e",
            "a7ec4340360c492f94abe1885bdd5ccc",
            "ba734a7aedd344f6a31a18e51c051a9e",
            "2776442260684a5a8877e83a650f5ba8",
            "3d24a9c5676b41648dd1c576c4e6f0ac",
            "76c85867e5eb4cbb92b7ce3ab3663a07",
            "1985e94c38a84f31acde7b07be418c54",
            "c8773ffe35b140169d7c3dfe06a600fd",
            "bfea14a320c442e18834a55baddfd2e9",
            "002985f4339349ab8806e6ac302e319f",
            "601aefb8932e49e5bd507b5b5d6caf6b",
            "13a847da21804183a9a2c4edbcfa47ea",
            "fa5f33ba2c094a54833e5a9dec8feaea",
            "185fec5fa1784430ac4bff139e0173f1",
            "2008897e1ab147549884ac0f9bfe05cd",
            "fd43438a7bd746f78af83bcac91bd16b",
            "7f8a5a5d7a124fa8b66952c6eaf182ef",
            "198c0499ee014996a320fa4b61750a21",
            "fd773307295e4d31a8186780af7f8675",
            "4ebd2be180094f559bb66aedb83afada",
            "08dc0f266bf54d859b1a9a13536cd2c5",
            "6a010720a07746fb945f683fd7aeb1b0",
            "628ee58cdae7402ea2eb459da25530eb",
            "899d6e8fe00c48ed839224360c8e149c",
            "9233fd87141041a39e1dfedf32e5c0c5",
            "d939870088db4f718b807b39f4f8c01b",
            "ef854c3d389d4c7d9653348ddb9050a2",
            "5f9fae88d8854447b71957ec9b4b2934",
            "64ffc3238b394b03acbb70f0f133cee4"
          ]
        },
        "id": "BunCmzndly2G",
        "outputId": "f07dadc1-c171-45c2-c76e-6106f61e3e3c"
      },
      "outputs": [
        {
          "output_type": "stream",
          "name": "stdout",
          "text": [
            "Downloading http://yann.lecun.com/exdb/mnist/train-images-idx3-ubyte.gz\n",
            "Downloading http://yann.lecun.com/exdb/mnist/train-images-idx3-ubyte.gz to ./data/MNIST/raw/train-images-idx3-ubyte.gz\n"
          ]
        },
        {
          "output_type": "display_data",
          "data": {
            "text/plain": [
              "  0%|          | 0/9912422 [00:00<?, ?it/s]"
            ],
            "application/vnd.jupyter.widget-view+json": {
              "version_major": 2,
              "version_minor": 0,
              "model_id": "fa00b01e18f2455282842144b6264eea"
            }
          },
          "metadata": {}
        },
        {
          "output_type": "stream",
          "name": "stdout",
          "text": [
            "Extracting ./data/MNIST/raw/train-images-idx3-ubyte.gz to ./data/MNIST/raw\n",
            "\n",
            "Downloading http://yann.lecun.com/exdb/mnist/train-labels-idx1-ubyte.gz\n",
            "Downloading http://yann.lecun.com/exdb/mnist/train-labels-idx1-ubyte.gz to ./data/MNIST/raw/train-labels-idx1-ubyte.gz\n"
          ]
        },
        {
          "output_type": "display_data",
          "data": {
            "text/plain": [
              "  0%|          | 0/28881 [00:00<?, ?it/s]"
            ],
            "application/vnd.jupyter.widget-view+json": {
              "version_major": 2,
              "version_minor": 0,
              "model_id": "85137cf755344a86ac31b8f73881ba0d"
            }
          },
          "metadata": {}
        },
        {
          "output_type": "stream",
          "name": "stdout",
          "text": [
            "Extracting ./data/MNIST/raw/train-labels-idx1-ubyte.gz to ./data/MNIST/raw\n",
            "\n",
            "Downloading http://yann.lecun.com/exdb/mnist/t10k-images-idx3-ubyte.gz\n",
            "Downloading http://yann.lecun.com/exdb/mnist/t10k-images-idx3-ubyte.gz to ./data/MNIST/raw/t10k-images-idx3-ubyte.gz\n"
          ]
        },
        {
          "output_type": "display_data",
          "data": {
            "text/plain": [
              "  0%|          | 0/1648877 [00:00<?, ?it/s]"
            ],
            "application/vnd.jupyter.widget-view+json": {
              "version_major": 2,
              "version_minor": 0,
              "model_id": "c8773ffe35b140169d7c3dfe06a600fd"
            }
          },
          "metadata": {}
        },
        {
          "output_type": "stream",
          "name": "stdout",
          "text": [
            "Extracting ./data/MNIST/raw/t10k-images-idx3-ubyte.gz to ./data/MNIST/raw\n",
            "\n",
            "Downloading http://yann.lecun.com/exdb/mnist/t10k-labels-idx1-ubyte.gz\n",
            "Downloading http://yann.lecun.com/exdb/mnist/t10k-labels-idx1-ubyte.gz to ./data/MNIST/raw/t10k-labels-idx1-ubyte.gz\n"
          ]
        },
        {
          "output_type": "display_data",
          "data": {
            "text/plain": [
              "  0%|          | 0/4542 [00:00<?, ?it/s]"
            ],
            "application/vnd.jupyter.widget-view+json": {
              "version_major": 2,
              "version_minor": 0,
              "model_id": "fd773307295e4d31a8186780af7f8675"
            }
          },
          "metadata": {}
        },
        {
          "output_type": "stream",
          "name": "stdout",
          "text": [
            "Extracting ./data/MNIST/raw/t10k-labels-idx1-ubyte.gz to ./data/MNIST/raw\n",
            "\n"
          ]
        }
      ],
      "source": [
        "input_size  = 28*28   # images are 28x28 pixels\n",
        "output_size = 10      # there are 10 classes\n",
        "\n",
        "train_dataset = datasets.MNIST('./data', train=True, download=True,\n",
        "                   transform=transforms.Compose([\n",
        "                       transforms.ToTensor(),\n",
        "                       transforms.Normalize((0.1307,), (0.3081,))\n",
        "                   ]))\n",
        "train_loader = torch.utils.data.DataLoader(train_dataset, batch_size=64, shuffle=True)\n",
        "\n",
        "test_dataset = datasets.MNIST('./data', train=False, transform=transforms.Compose([\n",
        "                       transforms.ToTensor(),\n",
        "                       transforms.Normalize((0.1307,), (0.3081,))\n",
        "                   ]))\n",
        "test_loader = torch.utils.data.DataLoader(test_dataset, batch_size=1000, shuffle=True)"
      ]
    },
    {
      "cell_type": "markdown",
      "metadata": {
        "id": "ZQfhvktdly2G"
      },
      "source": [
        "# Plotting Data\n",
        "\n",
        "You must sample 10 images (one from each class) from the dataset and plot them as a grid with 2 rows of 5 columns each (i.e. of shape `2 x 5`)."
      ]
    },
    {
      "cell_type": "code",
      "execution_count": 13,
      "metadata": {
        "colab": {
          "base_uri": "https://localhost:8080/",
          "height": 108
        },
        "id": "7BsOYFAnly2H",
        "outputId": "f4756611-05e5-4d3b-d887-f4e04aaebbe3"
      },
      "outputs": [
        {
          "output_type": "display_data",
          "data": {
            "text/plain": [
              "<Figure size 864x1080 with 10 Axes>"
            ],
            "image/png": "[encoded data removed]"
          },
          "metadata": {
            "needs_background": "light"
          }
        }
      ],
      "source": [
        "# TODO: Plot 10 images with one image from each class in the training set\n",
        "targets = list(train_dataset.targets)\n",
        "indexes =[]\n",
        "for x in range(10):\n",
        "  target_index = targets.index(x)\n",
        "  indexes.append(target_index)\n",
        "fig = plt.figure(figsize =(12,15))\n",
        "for i, img_index in enumerate(indexes):\n",
        "  img = train_dataset[img_index][0].reshape((28,28))\n",
        "  ax = fig.add_subplot(1, 10, i+1)\n",
        "  ax.imshow(img)"
      ]
    },
    {
      "cell_type": "markdown",
      "metadata": {
        "id": "EXzRGJvjly2I"
      },
      "source": [
        "## Train a Fully Connected Neural Network on MNIST"
      ]
    },
    {
      "cell_type": "markdown",
      "metadata": {
        "id": "krAfRoDbly2J"
      },
      "source": [
        "### Define the network\n",
        "\n",
        "Build a 3-layer fully connected neural network that takes an input of size `784`, outputs `10` classes and has a hidden layer of size `(8,8)`. Use ReLU non-linearity and apply a logSoftmax function on the final layer.\n",
        "\n",
        "The model must have the following architecture:\n",
        "\n",
        "```\n",
        "linear_layer(input_size, n_hidden)\n",
        "relu\n",
        "linear_layer(n_hidden, n_hidden)\n",
        "relu\n",
        "linear_layer(n_hidden, output_size)\n",
        "log_softmax\n",
        "```"
      ]
    },
    {
      "cell_type": "code",
      "execution_count": 56,
      "metadata": {
        "id": "ccyAKwfbly2K"
      },
      "outputs": [],
      "source": [
        "class FCN(nn.Module):\n",
        "    def __init__(self, input_size, n_hidden, output_size):\n",
        "        super(FCN, self).__init__()\n",
        "        self.flatten = nn.Flatten()\n",
        "        self.relu = nn.ReLU()\n",
        "        self.logsoftmax = nn.LogSoftmax(dim=1)\n",
        "        self.f1=nn.Linear(input_size,n_hidden)\n",
        "        self.f2=nn.Linear(n_hidden,n_hidden)\n",
        "        self.f3=nn.Linear(n_hidden,output_size)\n",
        "\n",
        "    def forward(self, x):\n",
        "        x=self.flatten(x)\n",
        "        x=self.relu(self.f1(x))\n",
        "        x=self.relu(self.f2(x))\n",
        "        logsoftmax = self.logsoftmax(self.f3(x))\n",
        "        return logsoftmax"
      ]
    },
    {
      "cell_type": "markdown",
      "metadata": {
        "id": "3vpLO0aqly2K"
      },
      "source": [
        "### Define train and test function\n",
        "\n",
        "Complete the function for training and evaluating the model. You must use the cross entropy loss function for training the model.\n",
        "\n",
        "Note:\n",
        "- `permute` is a function passed as an argument to train and test functions.\n",
        "- `permutation_order` is a 1D torch array of size 784 (=28*28). It contains the random order for permutating the pixels in the `28x28` images."
      ]
    },
    {
      "cell_type": "code",
      "execution_count": 54,
      "metadata": {
        "id": "TJcD_cFVly2L"
      },
      "outputs": [],
      "source": [
        "def train(epoch, model, optimizer, permute_pixels=None, permutation_order=None):\n",
        "    \"\"\"\n",
        "    Train the model for one epoch\n",
        "\n",
        "    Args:\n",
        "        epoch (int): current epoch\n",
        "        model (nn.Module): model to train\n",
        "        optimizer (torch.optim): optimizer to use\n",
        "        permute_pixels (function): function to permute the pixels (default: None)\n",
        "        permutation_order (1D torch array): order of the permutation (default: None)\n",
        "    \"\"\"\n",
        "    model.train()\n",
        "    for batch_idx, (data, target) in enumerate(train_loader):\n",
        "        # send to device\n",
        "        data, target = data.to(device), target.to(device)\n",
        "        \n",
        "        # permute pixels\n",
        "        if permute_pixels is not None:\n",
        "            data = permute_pixels(data, permutation_order)\n",
        "\n",
        "        optimizer.zero_grad()\n",
        "        output = model(data)\n",
        "        cross = nn.CrossEntropyLoss()\n",
        "        loss = cross(output,target)\n",
        "        loss.backward()\n",
        "        optimizer.step()\n",
        "        if batch_idx % 100 == 0:\n",
        "            print('Train Epoch: {} [{}/{} ({:.0f}%)]\\tLoss: {:.6f}'.format(\n",
        "                epoch, batch_idx * len(data), len(train_loader.dataset),\n",
        "                100. * batch_idx / len(train_loader), loss.item()))\n",
        "            \n",
        "def test(model, permute_pixels=None, permutation_order=None):\n",
        "    \"\"\"\n",
        "    Test the model\n",
        "\n",
        "    Args:\n",
        "        model (nn.Module): model to test\n",
        "        permute (function): function to permute the pixels (default: None)\n",
        "        permutation_order (1D torch array): order of the permutation (default: None)\n",
        "    \"\"\"\n",
        "    model.eval()\n",
        "    test_loss = 0\n",
        "    correct = 0\n",
        "    for data, target in test_loader:\n",
        "        # send to device\n",
        "        data, target = data.to(device), target.to(device)\n",
        "        \n",
        "        # permute pixels\n",
        "        if permute_pixels is not None:\n",
        "            data = permute_pixels(data, permutation_order)\n",
        "\n",
        "        output = model(data)\n",
        "        cross = nn.CrossEntropyLoss()\n",
        "        test_loss += cross(output,target) # sum up batch loss                                                               \n",
        "        pred = torch.argmax(output,dim=1)  # get the index of the max log-probability                                                                 \n",
        "        correct += torch.count_nonzero(torch.eq(pred,target))\n",
        "\n",
        "    test_loss /= len(test_loader.dataset)\n",
        "    accuracy = 100. * correct / len(test_loader.dataset)\n",
        "    print('\\nTest set: Average loss: {:.4f}, Accuracy: {}/{} ({:.0f}%)\\n'.format(\n",
        "        test_loss, correct, len(test_loader.dataset),\n",
        "        accuracy))\n",
        "    return accuracy"
      ]
    },
    {
      "cell_type": "markdown",
      "metadata": {
        "id": "EFF7GTnRly2M"
      },
      "source": [
        "# Write a function for computing the total parameter count of the model"
      ]
    },
    {
      "cell_type": "code",
      "execution_count": 60,
      "metadata": {
        "id": "PnXmabSZly2N"
      },
      "outputs": [],
      "source": [
        "# function to count number of parameters\n",
        "def get_n_params(model):\n",
        "    # return number of parameters in model\n",
        "    num_parameter = 0\n",
        "    for p in model.parameters():\n",
        "      num = len(p)\n",
        "      num_parameter += num\n",
        "    return num_parameter"
      ]
    },
    {
      "cell_type": "markdown",
      "metadata": {
        "id": "23tzgpQAly2O"
      },
      "source": [
        "### Train a small fully-connected network\n",
        "\n",
        "Optimizer : SGD with lr=0.01 and momentum=0.5"
      ]
    },
    {
      "cell_type": "code",
      "execution_count": 61,
      "metadata": {
        "colab": {
          "base_uri": "https://localhost:8080/"
        },
        "id": "80WR0UEvly2P",
        "outputId": "2f3f7df2-e60e-4ba4-9ab4-022e81372c1c"
      },
      "outputs": [
        {
          "output_type": "stream",
          "name": "stdout",
          "text": [
            "Number of parameters: 52\n",
            "Train Epoch: 0 [0/60000 (0%)]\tLoss: 2.340083\n",
            "Train Epoch: 0 [6400/60000 (11%)]\tLoss: 1.494371\n",
            "Train Epoch: 0 [12800/60000 (21%)]\tLoss: 1.122974\n",
            "Train Epoch: 0 [19200/60000 (32%)]\tLoss: 0.740831\n",
            "Train Epoch: 0 [25600/60000 (43%)]\tLoss: 0.498326\n",
            "Train Epoch: 0 [32000/60000 (53%)]\tLoss: 0.628629\n",
            "Train Epoch: 0 [38400/60000 (64%)]\tLoss: 0.498834\n",
            "Train Epoch: 0 [44800/60000 (75%)]\tLoss: 0.308888\n",
            "Train Epoch: 0 [51200/60000 (85%)]\tLoss: 0.429595\n",
            "Train Epoch: 0 [57600/60000 (96%)]\tLoss: 0.497905\n",
            "\n",
            "Test set: Average loss: 0.0005, Accuracy: 8588/10000 (86%)\n",
            "\n"
          ]
        }
      ],
      "source": [
        "n_hidden = 8 # number of hidden units\n",
        "\n",
        "model_fcn = FCN(input_size, n_hidden, output_size)\n",
        "model_fcn.to(device)\n",
        "optimizer = torch.optim.SGD(model_fcn.parameters(), lr=0.01, momentum=0.5)  # use SGD with learning rate 0.01 and momentum 0.5\n",
        "print('Number of parameters: {}'.format(get_n_params(model_fcn)))\n",
        "\n",
        "test_accuracy = []\n",
        "for epoch in range(0, 1):\n",
        "    train(epoch, model_fcn, optimizer)\n",
        "    test_accuracy.append(test(model_fcn))"
      ]
    },
    {
      "cell_type": "markdown",
      "metadata": {
        "id": "tnOCZCnlly2Q"
      },
      "source": [
        "## Train a Convolutional Neural Network (CNN) on MNIST"
      ]
    },
    {
      "cell_type": "markdown",
      "metadata": {
        "id": "_dxbD8-kly2R"
      },
      "source": [
        "Define a convolutional neural network with the following architecture to classify the MNIST images.\n",
        "\n",
        "```\n",
        "Conv(\n",
        "    conv2D(input_size, conv_feature, kernel_size=5)\n",
        "    relu()\n",
        "    maxpool2d(kernel_size=2)\n",
        "    conv2d(conv_feature, conv_feature, kernel_size=5)\n",
        "    relu()\n",
        "    maxpool2d(kernel_size=2)\n",
        ")\n",
        "\n",
        "FC(\n",
        "    linear_feature(conv_feature*4*4, fc_feature),\n",
        "    relu(),\n",
        "    linear_feature(fc_feature, output_size),\n",
        "    log_softmax()\n",
        ")\n",
        "```"
      ]
    },
    {
      "cell_type": "code",
      "execution_count": 84,
      "metadata": {
        "id": "UThbpvcply2R"
      },
      "outputs": [],
      "source": [
        "class CNN(nn.Module):\n",
        "    def __init__(self, input_size, conv_feature, fc_feature, output_size):\n",
        "        super(CNN, self).__init__()\n",
        "        self.flatten=nn.Flatten()\n",
        "        self.relu= nn.ReLU()\n",
        "        self.logsoftmax = nn.LogSoftmax(dim=1)\n",
        "        self.conv1 = nn.Conv2d(1, conv_feature, kernel_size=5)\n",
        "        self.maxpool1 = nn.MaxPool2d(kernel_size=2)\n",
        "        self.conv2 = nn.Conv2d(conv_feature, conv_feature, kernel_size=5)\n",
        "        self.maxpool2 = nn.MaxPool2d(kernel_size=2)\n",
        "        self.fc1 = nn.Linear(conv_feature*4*4, fc_feature)\n",
        "        self.fc2 = nn.Linear(fc_feature, output_size)\n",
        "        \n",
        "        \n",
        "    def forward(self, x):\n",
        "        x = self.conv1(x)\n",
        "        x = self.relu(x)\n",
        "        x = self.maxpool1(x)\n",
        "        \n",
        "        x = self.conv2(x)\n",
        "        x = self.relu(x)\n",
        "        x = self.maxpool2(x)\n",
        "\n",
        "        x = self.flatten(x)\n",
        "        x = self.fc1(x)\n",
        "        x = self.relu(x)\n",
        "        x = self.fc2(x)\n",
        "        x = self.logsoftmax(x)\n",
        "        return x"
      ]
    },
    {
      "cell_type": "markdown",
      "metadata": {
        "id": "7WYql9rUly2R"
      },
      "source": [
        "### Train a ConvNet with the same number of parameters"
      ]
    },
    {
      "cell_type": "code",
      "execution_count": 72,
      "metadata": {
        "colab": {
          "base_uri": "https://localhost:8080/"
        },
        "id": "tJegfAGzly2S",
        "outputId": "df1ad446-6297-487d-9278-368e729e47e5"
      },
      "outputs": [
        {
          "output_type": "stream",
          "name": "stdout",
          "text": [
            "Number of parameters: 144\n",
            "Train Epoch: 0 [0/60000 (0%)]\tLoss: 2.333706\n",
            "Train Epoch: 0 [6400/60000 (11%)]\tLoss: 2.152258\n",
            "Train Epoch: 0 [12800/60000 (21%)]\tLoss: 0.505455\n",
            "Train Epoch: 0 [19200/60000 (32%)]\tLoss: 0.702007\n",
            "Train Epoch: 0 [25600/60000 (43%)]\tLoss: 0.278043\n",
            "Train Epoch: 0 [32000/60000 (53%)]\tLoss: 0.435815\n",
            "Train Epoch: 0 [38400/60000 (64%)]\tLoss: 0.143380\n",
            "Train Epoch: 0 [44800/60000 (75%)]\tLoss: 0.289571\n",
            "Train Epoch: 0 [51200/60000 (85%)]\tLoss: 0.098235\n",
            "Train Epoch: 0 [57600/60000 (96%)]\tLoss: 0.221551\n",
            "\n",
            "Test set: Average loss: 0.0002, Accuracy: 9483/10000 (95%)\n",
            "\n"
          ]
        }
      ],
      "source": [
        "# Training settings \n",
        "conv_features = 6 # number of feature maps\n",
        "fc_features = 50\n",
        "\n",
        "model_cnn = CNN(input_size, conv_features, fc_features, output_size) # create CNN model\n",
        "model_cnn.to(device)\n",
        "optimizer = torch.optim.SGD(model_cnn.parameters(), lr=0.01, momentum=0.5) # use SGD with learning rate 0.01 and momentum 0.5\n",
        "print('Number of parameters: {}'.format(get_n_params(model_cnn)))\n",
        "\n",
        "test_accuracy = []\n",
        "for epoch in range(0, 1):\n",
        "    train(epoch, model_cnn, optimizer)\n",
        "    test_accuracy.append(test(model_cnn))"
      ]
    },
    {
      "cell_type": "markdown",
      "metadata": {
        "id": "lYw1MPXBly2S"
      },
      "source": [
        "### Question: Why do you think the ConvNet performs better than the fully connected network even though both have the same number of parameters?\n"
      ]
    },
    {
      "cell_type": "markdown",
      "metadata": {
        "id": "4YqKgsJJly2S"
      },
      "source": [
        "ConvNet performs better than fully-connected networks, with a lot less parameters, because ConvNet has the shared-weights architecture and translation invariance characteristics. These give convolutional layers more flexibility in learning and avoid overfitting."
      ]
    },
    {
      "cell_type": "markdown",
      "metadata": {
        "id": "5uuzP7hzly2S"
      },
      "source": [
        "### What happens if the assumptions are no longer true?"
      ]
    },
    {
      "cell_type": "code",
      "execution_count": 96,
      "metadata": {
        "id": "wjWbJb_Qly2T"
      },
      "outputs": [],
      "source": [
        "# Given a permutation order, permute the pixels of the input image\n",
        "def permute_pixels(data, permutation_order):\n",
        "    \"\"\"\n",
        "    Permute the pixels of the input image\n",
        "    \n",
        "    Args:\n",
        "        data (torch tensor): batch of input images of shape (B, H, W) where B is the batch size, H is the height and W is the width.\n",
        "        permutation_order (1D torch array): order of the permutation\n",
        "    \n",
        "    Returns:\n",
        "        permuted_data (torch tensor): permuted batch of input images of shape (B, 1, H, W)\n",
        "    \"\"\"\n",
        "    permuted_data = data.view(-1, 28*28)\n",
        "    permuted_data = permuted_data[:, permutation_order]\n",
        "    permuted_data = permuted_data.view(-1, 1, 28, 28)\n",
        "    return permuted_data"
      ]
    },
    {
      "cell_type": "code",
      "execution_count": 97,
      "metadata": {
        "colab": {
          "base_uri": "https://localhost:8080/",
          "height": 683
        },
        "id": "SQpOZxa2ly2T",
        "outputId": "477f8b65-f71b-4ff8-f935-43d5e1c8444f"
      },
      "outputs": [
        {
          "output_type": "display_data",
          "data": {
            "text/plain": [
              "<Figure size 1152x864 with 20 Axes>"
            ],
            "image/png": "[encoded data removed]"
          },
          "metadata": {
            "needs_background": "light"
          }
        }
      ],
      "source": [
        "permutation_order = torch.randperm(28*28)\n",
        "\n",
        "plt.figure(figsize=(16, 12))\n",
        "for i in range(10):\n",
        "    image, _ = train_loader.dataset.__getitem__(i)\n",
        "    # permute pixels\n",
        "    image_perm = permute_pixels(image.clone(), permutation_order)\n",
        "    plt.subplot(4, 5, i + 1)\n",
        "    plt.imshow(image.squeeze().numpy())\n",
        "    plt.axis('off')\n",
        "    plt.subplot(4, 5, i + 11)\n",
        "    plt.imshow(image_perm.squeeze().numpy())\n",
        "    plt.axis('off')"
      ]
    },
    {
      "cell_type": "markdown",
      "metadata": {
        "id": "lYr2wDakly2U"
      },
      "source": [
        "### ConvNet with permuted pixels\n",
        "\n",
        "Train and evaluate a ConvNet with permuted pixels."
      ]
    },
    {
      "cell_type": "code",
      "execution_count": 98,
      "metadata": {
        "colab": {
          "base_uri": "https://localhost:8080/"
        },
        "id": "Dv8Yae9bly2U",
        "outputId": "c5c4b039-504c-4f8b-8924-f6112439ac4d"
      },
      "outputs": [
        {
          "output_type": "stream",
          "name": "stdout",
          "text": [
            "Number of parameters: 144\n",
            "Train Epoch: 0 [0/60000 (0%)]\tLoss: 2.321328\n",
            "Train Epoch: 0 [6400/60000 (11%)]\tLoss: 2.238184\n",
            "Train Epoch: 0 [12800/60000 (21%)]\tLoss: 2.124543\n",
            "Train Epoch: 0 [19200/60000 (32%)]\tLoss: 1.690307\n",
            "Train Epoch: 0 [25600/60000 (43%)]\tLoss: 1.140076\n",
            "Train Epoch: 0 [32000/60000 (53%)]\tLoss: 0.643310\n",
            "Train Epoch: 0 [38400/60000 (64%)]\tLoss: 1.016407\n",
            "Train Epoch: 0 [44800/60000 (75%)]\tLoss: 0.751429\n",
            "Train Epoch: 0 [51200/60000 (85%)]\tLoss: 0.494827\n",
            "Train Epoch: 0 [57600/60000 (96%)]\tLoss: 0.618072\n",
            "\n",
            "Test set: Average loss: 0.0005, Accuracy: 8389/10000 (84%)\n",
            "\n"
          ]
        }
      ],
      "source": [
        "# Training settings \n",
        "conv_features = 6 # number of feature maps\n",
        "fc_features = 50\n",
        "\n",
        "model_cnn = CNN(input_size, conv_features, fc_features, output_size) # create CNN model\n",
        "model_cnn.to(device)\n",
        "optimizer = torch.optim.SGD(model_cnn.parameters(), lr=0.01, momentum=0.5) # use SGD with learning rate 0.01 and momentum 0.5\n",
        "print('Number of parameters: {}'.format(get_n_params(model_cnn)))\n",
        "\n",
        "for epoch in range(0, 1):\n",
        "    train(epoch, model_cnn, optimizer, permute_pixels, permutation_order)\n",
        "    test(model_cnn, permute_pixels, permutation_order)"
      ]
    },
    {
      "cell_type": "markdown",
      "metadata": {
        "id": "lghwgyK-ly2V"
      },
      "source": [
        "### Fully-Connected with Permuted Pixels\n",
        "\n",
        "Train and evaluate a fully connected network with permuted pixels."
      ]
    },
    {
      "cell_type": "code",
      "execution_count": 99,
      "metadata": {
        "colab": {
          "base_uri": "https://localhost:8080/"
        },
        "id": "xXCL--SCly2V",
        "outputId": "12394c19-3ba5-44c1-e563-6198405ddd0f"
      },
      "outputs": [
        {
          "output_type": "stream",
          "name": "stdout",
          "text": [
            "Number of parameters: 52\n",
            "Train Epoch: 0 [0/60000 (0%)]\tLoss: 2.326552\n",
            "Train Epoch: 0 [6400/60000 (11%)]\tLoss: 1.864079\n",
            "Train Epoch: 0 [12800/60000 (21%)]\tLoss: 1.217759\n",
            "Train Epoch: 0 [19200/60000 (32%)]\tLoss: 0.891486\n",
            "Train Epoch: 0 [25600/60000 (43%)]\tLoss: 0.584047\n",
            "Train Epoch: 0 [32000/60000 (53%)]\tLoss: 0.611402\n",
            "Train Epoch: 0 [38400/60000 (64%)]\tLoss: 0.761797\n",
            "Train Epoch: 0 [44800/60000 (75%)]\tLoss: 0.661518\n",
            "Train Epoch: 0 [51200/60000 (85%)]\tLoss: 0.489045\n",
            "Train Epoch: 0 [57600/60000 (96%)]\tLoss: 0.451163\n",
            "\n",
            "Test set: Average loss: 0.0004, Accuracy: 8726/10000 (87%)\n",
            "\n"
          ]
        }
      ],
      "source": [
        "n_hidden = 8    # number of hidden units\n",
        "\n",
        "model_fnn = FCN(input_size, n_hidden, output_size) # create FCN model\n",
        "model_fnn.to(device)\n",
        "optimizer = torch.optim.SGD(model_fnn.parameters(), lr=0.01, momentum=0.5) # use SGD with learning rate 0.01 and momentum 0.5\n",
        "print('Number of parameters: {}'.format(get_n_params(model_fnn)))\n",
        "\n",
        "for epoch in range(0, 1):\n",
        "    train(epoch, model_fnn, optimizer, permute_pixels)\n",
        "    test(model_fnn, permute_pixels)"
      ]
    },
    {
      "cell_type": "markdown",
      "metadata": {
        "id": "l4xlEpZ9ly2V"
      },
      "source": [
        "### Question: We observe that the ConvNet's performance drops when we permute the pixels, but the Fully-Connected Network's performance stays the same. Provide an explanation for this."
      ]
    },
    {
      "cell_type": "markdown",
      "metadata": {
        "id": "nt6e4eU_ly2V"
      },
      "source": [
        "ConvNet makes the assumption that pixels lie on a grid and are stationary, so it loses performance when this assumption is wrong due to the permutation of the pixels. Since the fully-connected network does not make this assumption, so its performance won't be affected by permuting the pixels."
      ]
    }
  ],
  "metadata": {
    "kernelspec": {
      "display_name": "Python 3.8.13 ('mlug')",
      "language": "python",
      "name": "python3"
    },
    "language_info": {
      "codemirror_mode": {
        "name": "ipython",
        "version": 3
      },
      "file_extension": ".py",
      "mimetype": "text/x-python",
      "name": "python",
      "nbconvert_exporter": "python",
      "pygments_lexer": "ipython3",
      "version": "3.8.13"
    },
    "orig_nbformat": 4,
    "vscode": {
      "interpreter": {
        "hash": "fc6f77fc95e5420108aa348103e4498d1d0de016cf7e1fd7da540445454c305d"
      }
    },
    "colab": {
      "provenance": []
    },
    "widgets": {
      "application/vnd.jupyter.widget-state+json": {
        "fa00b01e18f2455282842144b6264eea": {
          "model_module": "@jupyter-widgets/controls",
          "model_name": "HBoxModel",
          "model_module_version": "1.5.0",
          "state": {
            "_dom_classes": [],
            "_model_module": "@jupyter-widgets/controls",
            "_model_module_version": "1.5.0",
            "_model_name": "HBoxModel",
            "_view_count": null,
            "_view_module": "@jupyter-widgets/controls",
            "_view_module_version": "1.5.0",
            "_view_name": "HBoxView",
            "box_style": "",
            "children": [
              "IPY_MODEL_a56801dec872438788b01835bce62869",
              "IPY_MODEL_b494c650ee5b4798bbadd653dd5ddc19",
              "IPY_MODEL_a460799e735e420684a47f67586521d3"
            ],
            "layout": "IPY_MODEL_f629f1fccf4c46c8aae10773de80f371"
          }
        },
        "a56801dec872438788b01835bce62869": {
          "model_module": "@jupyter-widgets/controls",
          "model_name": "HTMLModel",
          "model_module_version": "1.5.0",
          "state": {
            "_dom_classes": [],
            "_model_module": "@jupyter-widgets/controls",
            "_model_module_version": "1.5.0",
            "_model_name": "HTMLModel",
            "_view_count": null,
            "_view_module": "@jupyter-widgets/controls",
            "_view_module_version": "1.5.0",
            "_view_name": "HTMLView",
            "description": "",
            "description_tooltip": null,
            "layout": "IPY_MODEL_0dc0431ef28b4f608f400d53d0c32223",
            "placeholder": "​",
            "style": "IPY_MODEL_bf76b73b03064cb5b36d54f44d338e89",
            "value": "100%"
          }
        },
        "b494c650ee5b4798bbadd653dd5ddc19": {
          "model_module": "@jupyter-widgets/controls",
          "model_name": "FloatProgressModel",
          "model_module_version": "1.5.0",
          "state": {
            "_dom_classes": [],
            "_model_module": "@jupyter-widgets/controls",
            "_model_module_version": "1.5.0",
            "_model_name": "FloatProgressModel",
            "_view_count": null,
            "_view_module": "@jupyter-widgets/controls",
            "_view_module_version": "1.5.0",
            "_view_name": "ProgressView",
            "bar_style": "success",
            "description": "",
            "description_tooltip": null,
            "layout": "IPY_MODEL_e93ec6b5ba39459c81ad2594fb33965f",
            "max": 9912422,
            "min": 0,
            "orientation": "horizontal",
            "style": "IPY_MODEL_a42490273c4f4347a730a2b1bf0b6825",
            "value": 9912422
          }
        },
        "a460799e735e420684a47f67586521d3": {
          "model_module": "@jupyter-widgets/controls",
          "model_name": "HTMLModel",
          "model_module_version": "1.5.0",
          "state": {
            "_dom_classes": [],
            "_model_module": "@jupyter-widgets/controls",
            "_model_module_version": "1.5.0",
            "_model_name": "HTMLModel",
            "_view_count": null,
            "_view_module": "@jupyter-widgets/controls",
            "_view_module_version": "1.5.0",
            "_view_name": "HTMLView",
            "description": "",
            "description_tooltip": null,
            "layout": "IPY_MODEL_ffd7770cf0ed403db204fae6521ecb65",
            "placeholder": "​",
            "style": "IPY_MODEL_8e05dfe56a964f69b1854d133379bcc0",
            "value": " 9912422/9912422 [00:00&lt;00:00, 38464613.15it/s]"
          }
        },
        "f629f1fccf4c46c8aae10773de80f371": {
          "model_module": "@jupyter-widgets/base",
          "model_name": "LayoutModel",
          "model_module_version": "1.2.0",
          "state": {
            "_model_module": "@jupyter-widgets/base",
            "_model_module_version": "1.2.0",
            "_model_name": "LayoutModel",
            "_view_count": null,
            "_view_module": "@jupyter-widgets/base",
            "_view_module_version": "1.2.0",
            "_view_name": "LayoutView",
            "align_content": null,
            "align_items": null,
            "align_self": null,
            "border": null,
            "bottom": null,
            "display": null,
            "flex": null,
            "flex_flow": null,
            "grid_area": null,
            "grid_auto_columns": null,
            "grid_auto_flow": null,
            "grid_auto_rows": null,
            "grid_column": null,
            "grid_gap": null,
            "grid_row": null,
            "grid_template_areas": null,
            "grid_template_columns": null,
            "grid_template_rows": null,
            "height": null,
            "justify_content": null,
            "justify_items": null,
            "left": null,
            "margin": null,
            "max_height": null,
            "max_width": null,
            "min_height": null,
            "min_width": null,
            "object_fit": null,
            "object_position": null,
            "order": null,
            "overflow": null,
            "overflow_x": null,
            "overflow_y": null,
            "padding": null,
            "right": null,
            "top": null,
            "visibility": null,
            "width": null
          }
        },
        "0dc0431ef28b4f608f400d53d0c32223": {
          "model_module": "@jupyter-widgets/base",
          "model_name": "LayoutModel",
          "model_module_version": "1.2.0",
          "state": {
            "_model_module": "@jupyter-widgets/base",
            "_model_module_version": "1.2.0",
            "_model_name": "LayoutModel",
            "_view_count": null,
            "_view_module": "@jupyter-widgets/base",
            "_view_module_version": "1.2.0",
            "_view_name": "LayoutView",
            "align_content": null,
            "align_items": null,
            "align_self": null,
            "border": null,
            "bottom": null,
            "display": null,
            "flex": null,
            "flex_flow": null,
            "grid_area": null,
            "grid_auto_columns": null,
            "grid_auto_flow": null,
            "grid_auto_rows": null,
            "grid_column": null,
            "grid_gap": null,
            "grid_row": null,
            "grid_template_areas": null,
            "grid_template_columns": null,
            "grid_template_rows": null,
            "height": null,
            "justify_content": null,
            "justify_items": null,
            "left": null,
            "margin": null,
            "max_height": null,
            "max_width": null,
            "min_height": null,
            "min_width": null,
            "object_fit": null,
            "object_position": null,
            "order": null,
            "overflow": null,
            "overflow_x": null,
            "overflow_y": null,
            "padding": null,
            "right": null,
            "top": null,
            "visibility": null,
            "width": null
          }
        },
        "bf76b73b03064cb5b36d54f44d338e89": {
          "model_module": "@jupyter-widgets/controls",
          "model_name": "DescriptionStyleModel",
          "model_module_version": "1.5.0",
          "state": {
            "_model_module": "@jupyter-widgets/controls",
            "_model_module_version": "1.5.0",
            "_model_name": "DescriptionStyleModel",
            "_view_count": null,
            "_view_module": "@jupyter-widgets/base",
            "_view_module_version": "1.2.0",
            "_view_name": "StyleView",
            "description_width": ""
          }
        },
        "e93ec6b5ba39459c81ad2594fb33965f": {
          "model_module": "@jupyter-widgets/base",
          "model_name": "LayoutModel",
          "model_module_version": "1.2.0",
          "state": {
            "_model_module": "@jupyter-widgets/base",
            "_model_module_version": "1.2.0",
            "_model_name": "LayoutModel",
            "_view_count": null,
            "_view_module": "@jupyter-widgets/base",
            "_view_module_version": "1.2.0",
            "_view_name": "LayoutView",
            "align_content": null,
            "align_items": null,
            "align_self": null,
            "border": null,
            "bottom": null,
            "display": null,
            "flex": null,
            "flex_flow": null,
            "grid_area": null,
            "grid_auto_columns": null,
            "grid_auto_flow": null,
            "grid_auto_rows": null,
            "grid_column": null,
            "grid_gap": null,
            "grid_row": null,
            "grid_template_areas": null,
            "grid_template_columns": null,
            "grid_template_rows": null,
            "height": null,
            "justify_content": null,
            "justify_items": null,
            "left": null,
            "margin": null,
            "max_height": null,
            "max_width": null,
            "min_height": null,
            "min_width": null,
            "object_fit": null,
            "object_position": null,
            "order": null,
            "overflow": null,
            "overflow_x": null,
            "overflow_y": null,
            "padding": null,
            "right": null,
            "top": null,
            "visibility": null,
            "width": null
          }
        },
        "a42490273c4f4347a730a2b1bf0b6825": {
          "model_module": "@jupyter-widgets/controls",
          "model_name": "ProgressStyleModel",
          "model_module_version": "1.5.0",
          "state": {
            "_model_module": "@jupyter-widgets/controls",
            "_model_module_version": "1.5.0",
            "_model_name": "ProgressStyleModel",
            "_view_count": null,
            "_view_module": "@jupyter-widgets/base",
            "_view_module_version": "1.2.0",
            "_view_name": "StyleView",
            "bar_color": null,
            "description_width": ""
          }
        },
        "ffd7770cf0ed403db204fae6521ecb65": {
          "model_module": "@jupyter-widgets/base",
          "model_name": "LayoutModel",
          "model_module_version": "1.2.0",
          "state": {
            "_model_module": "@jupyter-widgets/base",
            "_model_module_version": "1.2.0",
            "_model_name": "LayoutModel",
            "_view_count": null,
            "_view_module": "@jupyter-widgets/base",
            "_view_module_version": "1.2.0",
            "_view_name": "LayoutView",
            "align_content": null,
            "align_items": null,
            "align_self": null,
            "border": null,
            "bottom": null,
            "display": null,
            "flex": null,
            "flex_flow": null,
            "grid_area": null,
            "grid_auto_columns": null,
            "grid_auto_flow": null,
            "grid_auto_rows": null,
            "grid_column": null,
            "grid_gap": null,
            "grid_row": null,
            "grid_template_areas": null,
            "grid_template_columns": null,
            "grid_template_rows": null,
            "height": null,
            "justify_content": null,
            "justify_items": null,
            "left": null,
            "margin": null,
            "max_height": null,
            "max_width": null,
            "min_height": null,
            "min_width": null,
            "object_fit": null,
            "object_position": null,
            "order": null,
            "overflow": null,
            "overflow_x": null,
            "overflow_y": null,
            "padding": null,
            "right": null,
            "top": null,
            "visibility": null,
            "width": null
          }
        },
        "8e05dfe56a964f69b1854d133379bcc0": {
          "model_module": "@jupyter-widgets/controls",
          "model_name": "DescriptionStyleModel",
          "model_module_version": "1.5.0",
          "state": {
            "_model_module": "@jupyter-widgets/controls",
            "_model_module_version": "1.5.0",
            "_model_name": "DescriptionStyleModel",
            "_view_count": null,
            "_view_module": "@jupyter-widgets/base",
            "_view_module_version": "1.2.0",
            "_view_name": "StyleView",
            "description_width": ""
          }
        },
        "85137cf755344a86ac31b8f73881ba0d": {
          "model_module": "@jupyter-widgets/controls",
          "model_name": "HBoxModel",
          "model_module_version": "1.5.0",
          "state": {
            "_dom_classes": [],
            "_model_module": "@jupyter-widgets/controls",
            "_model_module_version": "1.5.0",
            "_model_name": "HBoxModel",
            "_view_count": null,
            "_view_module": "@jupyter-widgets/controls",
            "_view_module_version": "1.5.0",
            "_view_name": "HBoxView",
            "box_style": "",
            "children": [
              "IPY_MODEL_1784f7758a9b426590694e021a2728fc",
              "IPY_MODEL_38f9d9cec305426da63b05eda959b336",
              "IPY_MODEL_27ee4fa106f84a61bc21c88bce8294ac"
            ],
            "layout": "IPY_MODEL_c2e394c1432c47fa82d73be6e8a5175e"
          }
        },
        "1784f7758a9b426590694e021a2728fc": {
          "model_module": "@jupyter-widgets/controls",
          "model_name": "HTMLModel",
          "model_module_version": "1.5.0",
          "state": {
            "_dom_classes": [],
            "_model_module": "@jupyter-widgets/controls",
            "_model_module_version": "1.5.0",
            "_model_name": "HTMLModel",
            "_view_count": null,
            "_view_module": "@jupyter-widgets/controls",
            "_view_module_version": "1.5.0",
            "_view_name": "HTMLView",
            "description": "",
            "description_tooltip": null,
            "layout": "IPY_MODEL_a7ec4340360c492f94abe1885bdd5ccc",
            "placeholder": "​",
            "style": "IPY_MODEL_ba734a7aedd344f6a31a18e51c051a9e",
            "value": "100%"
          }
        },
        "38f9d9cec305426da63b05eda959b336": {
          "model_module": "@jupyter-widgets/controls",
          "model_name": "FloatProgressModel",
          "model_module_version": "1.5.0",
          "state": {
            "_dom_classes": [],
            "_model_module": "@jupyter-widgets/controls",
            "_model_module_version": "1.5.0",
            "_model_name": "FloatProgressModel",
            "_view_count": null,
            "_view_module": "@jupyter-widgets/controls",
            "_view_module_version": "1.5.0",
            "_view_name": "ProgressView",
            "bar_style": "success",
            "description": "",
            "description_tooltip": null,
            "layout": "IPY_MODEL_2776442260684a5a8877e83a650f5ba8",
            "max": 28881,
            "min": 0,
            "orientation": "horizontal",
            "style": "IPY_MODEL_3d24a9c5676b41648dd1c576c4e6f0ac",
            "value": 28881
          }
        },
        "27ee4fa106f84a61bc21c88bce8294ac": {
          "model_module": "@jupyter-widgets/controls",
          "model_name": "HTMLModel",
          "model_module_version": "1.5.0",
          "state": {
            "_dom_classes": [],
            "_model_module": "@jupyter-widgets/controls",
            "_model_module_version": "1.5.0",
            "_model_name": "HTMLModel",
            "_view_count": null,
            "_view_module": "@jupyter-widgets/controls",
            "_view_module_version": "1.5.0",
            "_view_name": "HTMLView",
            "description": "",
            "description_tooltip": null,
            "layout": "IPY_MODEL_76c85867e5eb4cbb92b7ce3ab3663a07",
            "placeholder": "​",
            "style": "IPY_MODEL_1985e94c38a84f31acde7b07be418c54",
            "value": " 28881/28881 [00:00&lt;00:00, 484149.65it/s]"
          }
        },
        "c2e394c1432c47fa82d73be6e8a5175e": {
          "model_module": "@jupyter-widgets/base",
          "model_name": "LayoutModel",
          "model_module_version": "1.2.0",
          "state": {
            "_model_module": "@jupyter-widgets/base",
            "_model_module_version": "1.2.0",
            "_model_name": "LayoutModel",
            "_view_count": null,
            "_view_module": "@jupyter-widgets/base",
            "_view_module_version": "1.2.0",
            "_view_name": "LayoutView",
            "align_content": null,
            "align_items": null,
            "align_self": null,
            "border": null,
            "bottom": null,
            "display": null,
            "flex": null,
            "flex_flow": null,
            "grid_area": null,
            "grid_auto_columns": null,
            "grid_auto_flow": null,
            "grid_auto_rows": null,
            "grid_column": null,
            "grid_gap": null,
            "grid_row": null,
            "grid_template_areas": null,
            "grid_template_columns": null,
            "grid_template_rows": null,
            "height": null,
            "justify_content": null,
            "justify_items": null,
            "left": null,
            "margin": null,
            "max_height": null,
            "max_width": null,
            "min_height": null,
            "min_width": null,
            "object_fit": null,
            "object_position": null,
            "order": null,
            "overflow": null,
            "overflow_x": null,
            "overflow_y": null,
            "padding": null,
            "right": null,
            "top": null,
            "visibility": null,
            "width": null
          }
        },
        "a7ec4340360c492f94abe1885bdd5ccc": {
          "model_module": "@jupyter-widgets/base",
          "model_name": "LayoutModel",
          "model_module_version": "1.2.0",
          "state": {
            "_model_module": "@jupyter-widgets/base",
            "_model_module_version": "1.2.0",
            "_model_name": "LayoutModel",
            "_view_count": null,
            "_view_module": "@jupyter-widgets/base",
            "_view_module_version": "1.2.0",
            "_view_name": "LayoutView",
            "align_content": null,
            "align_items": null,
            "align_self": null,
            "border": null,
            "bottom": null,
            "display": null,
            "flex": null,
            "flex_flow": null,
            "grid_area": null,
            "grid_auto_columns": null,
            "grid_auto_flow": null,
            "grid_auto_rows": null,
            "grid_column": null,
            "grid_gap": null,
            "grid_row": null,
            "grid_template_areas": null,
            "grid_template_columns": null,
            "grid_template_rows": null,
            "height": null,
            "justify_content": null,
            "justify_items": null,
            "left": null,
            "margin": null,
            "max_height": null,
            "max_width": null,
            "min_height": null,
            "min_width": null,
            "object_fit": null,
            "object_position": null,
            "order": null,
            "overflow": null,
            "overflow_x": null,
            "overflow_y": null,
            "padding": null,
            "right": null,
            "top": null,
            "visibility": null,
            "width": null
          }
        },
        "ba734a7aedd344f6a31a18e51c051a9e": {
          "model_module": "@jupyter-widgets/controls",
          "model_name": "DescriptionStyleModel",
          "model_module_version": "1.5.0",
          "state": {
            "_model_module": "@jupyter-widgets/controls",
            "_model_module_version": "1.5.0",
            "_model_name": "DescriptionStyleModel",
            "_view_count": null,
            "_view_module": "@jupyter-widgets/base",
            "_view_module_version": "1.2.0",
            "_view_name": "StyleView",
            "description_width": ""
          }
        },
        "2776442260684a5a8877e83a650f5ba8": {
          "model_module": "@jupyter-widgets/base",
          "model_name": "LayoutModel",
          "model_module_version": "1.2.0",
          "state": {
            "_model_module": "@jupyter-widgets/base",
            "_model_module_version": "1.2.0",
            "_model_name": "LayoutModel",
            "_view_count": null,
            "_view_module": "@jupyter-widgets/base",
            "_view_module_version": "1.2.0",
            "_view_name": "LayoutView",
            "align_content": null,
            "align_items": null,
            "align_self": null,
            "border": null,
            "bottom": null,
            "display": null,
            "flex": null,
            "flex_flow": null,
            "grid_area": null,
            "grid_auto_columns": null,
            "grid_auto_flow": null,
            "grid_auto_rows": null,
            "grid_column": null,
            "grid_gap": null,
            "grid_row": null,
            "grid_template_areas": null,
            "grid_template_columns": null,
            "grid_template_rows": null,
            "height": null,
            "justify_content": null,
            "justify_items": null,
            "left": null,
            "margin": null,
            "max_height": null,
            "max_width": null,
            "min_height": null,
            "min_width": null,
            "object_fit": null,
            "object_position": null,
            "order": null,
            "overflow": null,
            "overflow_x": null,
            "overflow_y": null,
            "padding": null,
            "right": null,
            "top": null,
            "visibility": null,
            "width": null
          }
        },
        "3d24a9c5676b41648dd1c576c4e6f0ac": {
          "model_module": "@jupyter-widgets/controls",
          "model_name": "ProgressStyleModel",
          "model_module_version": "1.5.0",
          "state": {
            "_model_module": "@jupyter-widgets/controls",
            "_model_module_version": "1.5.0",
            "_model_name": "ProgressStyleModel",
            "_view_count": null,
            "_view_module": "@jupyter-widgets/base",
            "_view_module_version": "1.2.0",
            "_view_name": "StyleView",
            "bar_color": null,
            "description_width": ""
          }
        },
        "76c85867e5eb4cbb92b7ce3ab3663a07": {
          "model_module": "@jupyter-widgets/base",
          "model_name": "LayoutModel",
          "model_module_version": "1.2.0",
          "state": {
            "_model_module": "@jupyter-widgets/base",
            "_model_module_version": "1.2.0",
            "_model_name": "LayoutModel",
            "_view_count": null,
            "_view_module": "@jupyter-widgets/base",
            "_view_module_version": "1.2.0",
            "_view_name": "LayoutView",
            "align_content": null,
            "align_items": null,
            "align_self": null,
            "border": null,
            "bottom": null,
            "display": null,
            "flex": null,
            "flex_flow": null,
            "grid_area": null,
            "grid_auto_columns": null,
            "grid_auto_flow": null,
            "grid_auto_rows": null,
            "grid_column": null,
            "grid_gap": null,
            "grid_row": null,
            "grid_template_areas": null,
            "grid_template_columns": null,
            "grid_template_rows": null,
            "height": null,
            "justify_content": null,
            "justify_items": null,
            "left": null,
            "margin": null,
            "max_height": null,
            "max_width": null,
            "min_height": null,
            "min_width": null,
            "object_fit": null,
            "object_position": null,
            "order": null,
            "overflow": null,
            "overflow_x": null,
            "overflow_y": null,
            "padding": null,
            "right": null,
            "top": null,
            "visibility": null,
            "width": null
          }
        },
        "1985e94c38a84f31acde7b07be418c54": {
          "model_module": "@jupyter-widgets/controls",
          "model_name": "DescriptionStyleModel",
          "model_module_version": "1.5.0",
          "state": {
            "_model_module": "@jupyter-widgets/controls",
            "_model_module_version": "1.5.0",
            "_model_name": "DescriptionStyleModel",
            "_view_count": null,
            "_view_module": "@jupyter-widgets/base",
            "_view_module_version": "1.2.0",
            "_view_name": "StyleView",
            "description_width": ""
          }
        },
        "c8773ffe35b140169d7c3dfe06a600fd": {
          "model_module": "@jupyter-widgets/controls",
          "model_name": "HBoxModel",
          "model_module_version": "1.5.0",
          "state": {
            "_dom_classes": [],
            "_model_module": "@jupyter-widgets/controls",
            "_model_module_version": "1.5.0",
            "_model_name": "HBoxModel",
            "_view_count": null,
            "_view_module": "@jupyter-widgets/controls",
            "_view_module_version": "1.5.0",
            "_view_name": "HBoxView",
            "box_style": "",
            "children": [
              "IPY_MODEL_bfea14a320c442e18834a55baddfd2e9",
              "IPY_MODEL_002985f4339349ab8806e6ac302e319f",
              "IPY_MODEL_601aefb8932e49e5bd507b5b5d6caf6b"
            ],
            "layout": "IPY_MODEL_13a847da21804183a9a2c4edbcfa47ea"
          }
        },
        "bfea14a320c442e18834a55baddfd2e9": {
          "model_module": "@jupyter-widgets/controls",
          "model_name": "HTMLModel",
          "model_module_version": "1.5.0",
          "state": {
            "_dom_classes": [],
            "_model_module": "@jupyter-widgets/controls",
            "_model_module_version": "1.5.0",
            "_model_name": "HTMLModel",
            "_view_count": null,
            "_view_module": "@jupyter-widgets/controls",
            "_view_module_version": "1.5.0",
            "_view_name": "HTMLView",
            "description": "",
            "description_tooltip": null,
            "layout": "IPY_MODEL_fa5f33ba2c094a54833e5a9dec8feaea",
            "placeholder": "​",
            "style": "IPY_MODEL_185fec5fa1784430ac4bff139e0173f1",
            "value": "100%"
          }
        },
        "002985f4339349ab8806e6ac302e319f": {
          "model_module": "@jupyter-widgets/controls",
          "model_name": "FloatProgressModel",
          "model_module_version": "1.5.0",
          "state": {
            "_dom_classes": [],
            "_model_module": "@jupyter-widgets/controls",
            "_model_module_version": "1.5.0",
            "_model_name": "FloatProgressModel",
            "_view_count": null,
            "_view_module": "@jupyter-widgets/controls",
            "_view_module_version": "1.5.0",
            "_view_name": "ProgressView",
            "bar_style": "success",
            "description": "",
            "description_tooltip": null,
            "layout": "IPY_MODEL_2008897e1ab147549884ac0f9bfe05cd",
            "max": 1648877,
            "min": 0,
            "orientation": "horizontal",
            "style": "IPY_MODEL_fd43438a7bd746f78af83bcac91bd16b",
            "value": 1648877
          }
        },
        "601aefb8932e49e5bd507b5b5d6caf6b": {
          "model_module": "@jupyter-widgets/controls",
          "model_name": "HTMLModel",
          "model_module_version": "1.5.0",
          "state": {
            "_dom_classes": [],
            "_model_module": "@jupyter-widgets/controls",
            "_model_module_version": "1.5.0",
            "_model_name": "HTMLModel",
            "_view_count": null,
            "_view_module": "@jupyter-widgets/controls",
            "_view_module_version": "1.5.0",
            "_view_name": "HTMLView",
            "description": "",
            "description_tooltip": null,
            "layout": "IPY_MODEL_7f8a5a5d7a124fa8b66952c6eaf182ef",
            "placeholder": "​",
            "style": "IPY_MODEL_198c0499ee014996a320fa4b61750a21",
            "value": " 1648877/1648877 [00:00&lt;00:00, 18012010.10it/s]"
          }
        },
        "13a847da21804183a9a2c4edbcfa47ea": {
          "model_module": "@jupyter-widgets/base",
          "model_name": "LayoutModel",
          "model_module_version": "1.2.0",
          "state": {
            "_model_module": "@jupyter-widgets/base",
            "_model_module_version": "1.2.0",
            "_model_name": "LayoutModel",
            "_view_count": null,
            "_view_module": "@jupyter-widgets/base",
            "_view_module_version": "1.2.0",
            "_view_name": "LayoutView",
            "align_content": null,
            "align_items": null,
            "align_self": null,
            "border": null,
            "bottom": null,
            "display": null,
            "flex": null,
            "flex_flow": null,
            "grid_area": null,
            "grid_auto_columns": null,
            "grid_auto_flow": null,
            "grid_auto_rows": null,
            "grid_column": null,
            "grid_gap": null,
            "grid_row": null,
            "grid_template_areas": null,
            "grid_template_columns": null,
            "grid_template_rows": null,
            "height": null,
            "justify_content": null,
            "justify_items": null,
            "left": null,
            "margin": null,
            "max_height": null,
            "max_width": null,
            "min_height": null,
            "min_width": null,
            "object_fit": null,
            "object_position": null,
            "order": null,
            "overflow": null,
            "overflow_x": null,
            "overflow_y": null,
            "padding": null,
            "right": null,
            "top": null,
            "visibility": null,
            "width": null
          }
        },
        "fa5f33ba2c094a54833e5a9dec8feaea": {
          "model_module": "@jupyter-widgets/base",
          "model_name": "LayoutModel",
          "model_module_version": "1.2.0",
          "state": {
            "_model_module": "@jupyter-widgets/base",
            "_model_module_version": "1.2.0",
            "_model_name": "LayoutModel",
            "_view_count": null,
            "_view_module": "@jupyter-widgets/base",
            "_view_module_version": "1.2.0",
            "_view_name": "LayoutView",
            "align_content": null,
            "align_items": null,
            "align_self": null,
            "border": null,
            "bottom": null,
            "display": null,
            "flex": null,
            "flex_flow": null,
            "grid_area": null,
            "grid_auto_columns": null,
            "grid_auto_flow": null,
            "grid_auto_rows": null,
            "grid_column": null,
            "grid_gap": null,
            "grid_row": null,
            "grid_template_areas": null,
            "grid_template_columns": null,
            "grid_template_rows": null,
            "height": null,
            "justify_content": null,
            "justify_items": null,
            "left": null,
            "margin": null,
            "max_height": null,
            "max_width": null,
            "min_height": null,
            "min_width": null,
            "object_fit": null,
            "object_position": null,
            "order": null,
            "overflow": null,
            "overflow_x": null,
            "overflow_y": null,
            "padding": null,
            "right": null,
            "top": null,
            "visibility": null,
            "width": null
          }
        },
        "185fec5fa1784430ac4bff139e0173f1": {
          "model_module": "@jupyter-widgets/controls",
          "model_name": "DescriptionStyleModel",
          "model_module_version": "1.5.0",
          "state": {
            "_model_module": "@jupyter-widgets/controls",
            "_model_module_version": "1.5.0",
            "_model_name": "DescriptionStyleModel",
            "_view_count": null,
            "_view_module": "@jupyter-widgets/base",
            "_view_module_version": "1.2.0",
            "_view_name": "StyleView",
            "description_width": ""
          }
        },
        "2008897e1ab147549884ac0f9bfe05cd": {
          "model_module": "@jupyter-widgets/base",
          "model_name": "LayoutModel",
          "model_module_version": "1.2.0",
          "state": {
            "_model_module": "@jupyter-widgets/base",
            "_model_module_version": "1.2.0",
            "_model_name": "LayoutModel",
            "_view_count": null,
            "_view_module": "@jupyter-widgets/base",
            "_view_module_version": "1.2.0",
            "_view_name": "LayoutView",
            "align_content": null,
            "align_items": null,
            "align_self": null,
            "border": null,
            "bottom": null,
            "display": null,
            "flex": null,
            "flex_flow": null,
            "grid_area": null,
            "grid_auto_columns": null,
            "grid_auto_flow": null,
            "grid_auto_rows": null,
            "grid_column": null,
            "grid_gap": null,
            "grid_row": null,
            "grid_template_areas": null,
            "grid_template_columns": null,
            "grid_template_rows": null,
            "height": null,
            "justify_content": null,
            "justify_items": null,
            "left": null,
            "margin": null,
            "max_height": null,
            "max_width": null,
            "min_height": null,
            "min_width": null,
            "object_fit": null,
            "object_position": null,
            "order": null,
            "overflow": null,
            "overflow_x": null,
            "overflow_y": null,
            "padding": null,
            "right": null,
            "top": null,
            "visibility": null,
            "width": null
          }
        },
        "fd43438a7bd746f78af83bcac91bd16b": {
          "model_module": "@jupyter-widgets/controls",
          "model_name": "ProgressStyleModel",
          "model_module_version": "1.5.0",
          "state": {
            "_model_module": "@jupyter-widgets/controls",
            "_model_module_version": "1.5.0",
            "_model_name": "ProgressStyleModel",
            "_view_count": null,
            "_view_module": "@jupyter-widgets/base",
            "_view_module_version": "1.2.0",
            "_view_name": "StyleView",
            "bar_color": null,
            "description_width": ""
          }
        },
        "7f8a5a5d7a124fa8b66952c6eaf182ef": {
          "model_module": "@jupyter-widgets/base",
          "model_name": "LayoutModel",
          "model_module_version": "1.2.0",
          "state": {
            "_model_module": "@jupyter-widgets/base",
            "_model_module_version": "1.2.0",
            "_model_name": "LayoutModel",
            "_view_count": null,
            "_view_module": "@jupyter-widgets/base",
            "_view_module_version": "1.2.0",
            "_view_name": "LayoutView",
            "align_content": null,
            "align_items": null,
            "align_self": null,
            "border": null,
            "bottom": null,
            "display": null,
            "flex": null,
            "flex_flow": null,
            "grid_area": null,
            "grid_auto_columns": null,
            "grid_auto_flow": null,
            "grid_auto_rows": null,
            "grid_column": null,
            "grid_gap": null,
            "grid_row": null,
            "grid_template_areas": null,
            "grid_template_columns": null,
            "grid_template_rows": null,
            "height": null,
            "justify_content": null,
            "justify_items": null,
            "left": null,
            "margin": null,
            "max_height": null,
            "max_width": null,
            "min_height": null,
            "min_width": null,
            "object_fit": null,
            "object_position": null,
            "order": null,
            "overflow": null,
            "overflow_x": null,
            "overflow_y": null,
            "padding": null,
            "right": null,
            "top": null,
            "visibility": null,
            "width": null
          }
        },
        "198c0499ee014996a320fa4b61750a21": {
          "model_module": "@jupyter-widgets/controls",
          "model_name": "DescriptionStyleModel",
          "model_module_version": "1.5.0",
          "state": {
            "_model_module": "@jupyter-widgets/controls",
            "_model_module_version": "1.5.0",
            "_model_name": "DescriptionStyleModel",
            "_view_count": null,
            "_view_module": "@jupyter-widgets/base",
            "_view_module_version": "1.2.0",
            "_view_name": "StyleView",
            "description_width": ""
          }
        },
        "fd773307295e4d31a8186780af7f8675": {
          "model_module": "@jupyter-widgets/controls",
          "model_name": "HBoxModel",
          "model_module_version": "1.5.0",
          "state": {
            "_dom_classes": [],
            "_model_module": "@jupyter-widgets/controls",
            "_model_module_version": "1.5.0",
            "_model_name": "HBoxModel",
            "_view_count": null,
            "_view_module": "@jupyter-widgets/controls",
            "_view_module_version": "1.5.0",
            "_view_name": "HBoxView",
            "box_style": "",
            "children": [
              "IPY_MODEL_4ebd2be180094f559bb66aedb83afada",
              "IPY_MODEL_08dc0f266bf54d859b1a9a13536cd2c5",
              "IPY_MODEL_6a010720a07746fb945f683fd7aeb1b0"
            ],
            "layout": "IPY_MODEL_628ee58cdae7402ea2eb459da25530eb"
          }
        },
        "4ebd2be180094f559bb66aedb83afada": {
          "model_module": "@jupyter-widgets/controls",
          "model_name": "HTMLModel",
          "model_module_version": "1.5.0",
          "state": {
            "_dom_classes": [],
            "_model_module": "@jupyter-widgets/controls",
            "_model_module_version": "1.5.0",
            "_model_name": "HTMLModel",
            "_view_count": null,
            "_view_module": "@jupyter-widgets/controls",
            "_view_module_version": "1.5.0",
            "_view_name": "HTMLView",
            "description": "",
            "description_tooltip": null,
            "layout": "IPY_MODEL_899d6e8fe00c48ed839224360c8e149c",
            "placeholder": "​",
            "style": "IPY_MODEL_9233fd87141041a39e1dfedf32e5c0c5",
            "value": "100%"
          }
        },
        "08dc0f266bf54d859b1a9a13536cd2c5": {
          "model_module": "@jupyter-widgets/controls",
          "model_name": "FloatProgressModel",
          "model_module_version": "1.5.0",
          "state": {
            "_dom_classes": [],
            "_model_module": "@jupyter-widgets/controls",
            "_model_module_version": "1.5.0",
            "_model_name": "FloatProgressModel",
            "_view_count": null,
            "_view_module": "@jupyter-widgets/controls",
            "_view_module_version": "1.5.0",
            "_view_name": "ProgressView",
            "bar_style": "success",
            "description": "",
            "description_tooltip": null,
            "layout": "IPY_MODEL_d939870088db4f718b807b39f4f8c01b",
            "max": 4542,
            "min": 0,
            "orientation": "horizontal",
            "style": "IPY_MODEL_ef854c3d389d4c7d9653348ddb9050a2",
            "value": 4542
          }
        },
        "6a010720a07746fb945f683fd7aeb1b0": {
          "model_module": "@jupyter-widgets/controls",
          "model_name": "HTMLModel",
          "model_module_version": "1.5.0",
          "state": {
            "_dom_classes": [],
            "_model_module": "@jupyter-widgets/controls",
            "_model_module_version": "1.5.0",
            "_model_name": "HTMLModel",
            "_view_count": null,
            "_view_module": "@jupyter-widgets/controls",
            "_view_module_version": "1.5.0",
            "_view_name": "HTMLView",
            "description": "",
            "description_tooltip": null,
            "layout": "IPY_MODEL_5f9fae88d8854447b71957ec9b4b2934",
            "placeholder": "​",
            "style": "IPY_MODEL_64ffc3238b394b03acbb70f0f133cee4",
            "value": " 4542/4542 [00:00&lt;00:00, 45771.76it/s]"
          }
        },
        "628ee58cdae7402ea2eb459da25530eb": {
          "model_module": "@jupyter-widgets/base",
          "model_name": "LayoutModel",
          "model_module_version": "1.2.0",
          "state": {
            "_model_module": "@jupyter-widgets/base",
            "_model_module_version": "1.2.0",
            "_model_name": "LayoutModel",
            "_view_count": null,
            "_view_module": "@jupyter-widgets/base",
            "_view_module_version": "1.2.0",
            "_view_name": "LayoutView",
            "align_content": null,
            "align_items": null,
            "align_self": null,
            "border": null,
            "bottom": null,
            "display": null,
            "flex": null,
            "flex_flow": null,
            "grid_area": null,
            "grid_auto_columns": null,
            "grid_auto_flow": null,
            "grid_auto_rows": null,
            "grid_column": null,
            "grid_gap": null,
            "grid_row": null,
            "grid_template_areas": null,
            "grid_template_columns": null,
            "grid_template_rows": null,
            "height": null,
            "justify_content": null,
            "justify_items": null,
            "left": null,
            "margin": null,
            "max_height": null,
            "max_width": null,
            "min_height": null,
            "min_width": null,
            "object_fit": null,
            "object_position": null,
            "order": null,
            "overflow": null,
            "overflow_x": null,
            "overflow_y": null,
            "padding": null,
            "right": null,
            "top": null,
            "visibility": null,
            "width": null
          }
        },
        "899d6e8fe00c48ed839224360c8e149c": {
          "model_module": "@jupyter-widgets/base",
          "model_name": "LayoutModel",
          "model_module_version": "1.2.0",
          "state": {
            "_model_module": "@jupyter-widgets/base",
            "_model_module_version": "1.2.0",
            "_model_name": "LayoutModel",
            "_view_count": null,
            "_view_module": "@jupyter-widgets/base",
            "_view_module_version": "1.2.0",
            "_view_name": "LayoutView",
            "align_content": null,
            "align_items": null,
            "align_self": null,
            "border": null,
            "bottom": null,
            "display": null,
            "flex": null,
            "flex_flow": null,
            "grid_area": null,
            "grid_auto_columns": null,
            "grid_auto_flow": null,
            "grid_auto_rows": null,
            "grid_column": null,
            "grid_gap": null,
            "grid_row": null,
            "grid_template_areas": null,
            "grid_template_columns": null,
            "grid_template_rows": null,
            "height": null,
            "justify_content": null,
            "justify_items": null,
            "left": null,
            "margin": null,
            "max_height": null,
            "max_width": null,
            "min_height": null,
            "min_width": null,
            "object_fit": null,
            "object_position": null,
            "order": null,
            "overflow": null,
            "overflow_x": null,
            "overflow_y": null,
            "padding": null,
            "right": null,
            "top": null,
            "visibility": null,
            "width": null
          }
        },
        "9233fd87141041a39e1dfedf32e5c0c5": {
          "model_module": "@jupyter-widgets/controls",
          "model_name": "DescriptionStyleModel",
          "model_module_version": "1.5.0",
          "state": {
            "_model_module": "@jupyter-widgets/controls",
            "_model_module_version": "1.5.0",
            "_model_name": "DescriptionStyleModel",
            "_view_count": null,
            "_view_module": "@jupyter-widgets/base",
            "_view_module_version": "1.2.0",
            "_view_name": "StyleView",
            "description_width": ""
          }
        },
        "d939870088db4f718b807b39f4f8c01b": {
          "model_module": "@jupyter-widgets/base",
          "model_name": "LayoutModel",
          "model_module_version": "1.2.0",
          "state": {
            "_model_module": "@jupyter-widgets/base",
            "_model_module_version": "1.2.0",
            "_model_name": "LayoutModel",
            "_view_count": null,
            "_view_module": "@jupyter-widgets/base",
            "_view_module_version": "1.2.0",
            "_view_name": "LayoutView",
            "align_content": null,
            "align_items": null,
            "align_self": null,
            "border": null,
            "bottom": null,
            "display": null,
            "flex": null,
            "flex_flow": null,
            "grid_area": null,
            "grid_auto_columns": null,
            "grid_auto_flow": null,
            "grid_auto_rows": null,
            "grid_column": null,
            "grid_gap": null,
            "grid_row": null,
            "grid_template_areas": null,
            "grid_template_columns": null,
            "grid_template_rows": null,
            "height": null,
            "justify_content": null,
            "justify_items": null,
            "left": null,
            "margin": null,
            "max_height": null,
            "max_width": null,
            "min_height": null,
            "min_width": null,
            "object_fit": null,
            "object_position": null,
            "order": null,
            "overflow": null,
            "overflow_x": null,
            "overflow_y": null,
            "padding": null,
            "right": null,
            "top": null,
            "visibility": null,
            "width": null
          }
        },
        "ef854c3d389d4c7d9653348ddb9050a2": {
          "model_module": "@jupyter-widgets/controls",
          "model_name": "ProgressStyleModel",
          "model_module_version": "1.5.0",
          "state": {
            "_model_module": "@jupyter-widgets/controls",
            "_model_module_version": "1.5.0",
            "_model_name": "ProgressStyleModel",
            "_view_count": null,
            "_view_module": "@jupyter-widgets/base",
            "_view_module_version": "1.2.0",
            "_view_name": "StyleView",
            "bar_color": null,
            "description_width": ""
          }
        },
        "5f9fae88d8854447b71957ec9b4b2934": {
          "model_module": "@jupyter-widgets/base",
          "model_name": "LayoutModel",
          "model_module_version": "1.2.0",
          "state": {
            "_model_module": "@jupyter-widgets/base",
            "_model_module_version": "1.2.0",
            "_model_name": "LayoutModel",
            "_view_count": null,
            "_view_module": "@jupyter-widgets/base",
            "_view_module_version": "1.2.0",
            "_view_name": "LayoutView",
            "align_content": null,
            "align_items": null,
            "align_self": null,
            "border": null,
            "bottom": null,
            "display": null,
            "flex": null,
            "flex_flow": null,
            "grid_area": null,
            "grid_auto_columns": null,
            "grid_auto_flow": null,
            "grid_auto_rows": null,
            "grid_column": null,
            "grid_gap": null,
            "grid_row": null,
            "grid_template_areas": null,
            "grid_template_columns": null,
            "grid_template_rows": null,
            "height": null,
            "justify_content": null,
            "justify_items": null,
            "left": null,
            "margin": null,
            "max_height": null,
            "max_width": null,
            "min_height": null,
            "min_width": null,
            "object_fit": null,
            "object_position": null,
            "order": null,
            "overflow": null,
            "overflow_x": null,
            "overflow_y": null,
            "padding": null,
            "right": null,
            "top": null,
            "visibility": null,
            "width": null
          }
        },
        "64ffc3238b394b03acbb70f0f133cee4": {
          "model_module": "@jupyter-widgets/controls",
          "model_name": "DescriptionStyleModel",
          "model_module_version": "1.5.0",
          "state": {
            "_model_module": "@jupyter-widgets/controls",
            "_model_module_version": "1.5.0",
            "_model_name": "DescriptionStyleModel",
            "_view_count": null,
            "_view_module": "@jupyter-widgets/base",
            "_view_module_version": "1.2.0",
            "_view_name": "StyleView",
            "description_width": ""
          }
        }
      }
    }
  },
  "nbformat": 4,
  "nbformat_minor": 0
}