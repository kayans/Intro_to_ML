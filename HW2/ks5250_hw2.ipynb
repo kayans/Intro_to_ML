{
  "cells": [
    {
      "cell_type": "markdown",
      "metadata": {
        "tags": [],
        "id": "2Ezb33HR-LK4"
      },
      "source": [
        "# Homework 2: Linear Regression\n",
        "\n",
        "The is the coding potion of Homework 2. The homework is aimed at testing the ability to deal with a real-world dataset and use linear regression on it."
      ]
    },
    {
      "cell_type": "code",
      "execution_count": 1,
      "metadata": {
        "id": "UDiQ8aCp-LK8"
      },
      "outputs": [],
      "source": [
        "import numpy as np\n",
        "import pandas as pd\n",
        "\n",
        "# Plotting libraries\n",
        "import matplotlib.pyplot as plt\n",
        "import seaborn as sns\n",
        "\n",
        "%matplotlib inline"
      ]
    },
    {
      "cell_type": "markdown",
      "metadata": {
        "id": "0N6MnFV3-LK9"
      },
      "source": [
        "### Load Dataset\n",
        "Loading the California Housing dataset using sklearn."
      ]
    },
    {
      "cell_type": "code",
      "execution_count": 2,
      "metadata": {
        "id": "F-poDTi0-LK9"
      },
      "outputs": [],
      "source": [
        "# Load dataset\n",
        "from sklearn.datasets import fetch_california_housing\n",
        "housing = fetch_california_housing()"
      ]
    },
    {
      "cell_type": "markdown",
      "metadata": {
        "id": "Skvpm4xt-LK-"
      },
      "source": [
        "## Part 1 : Analyse the dataset"
      ]
    },
    {
      "cell_type": "code",
      "execution_count": 3,
      "metadata": {
        "colab": {
          "base_uri": "https://localhost:8080/",
          "height": 206
        },
        "id": "n9yheUSV-LK-",
        "outputId": "e55da15a-9146-48f4-9f4a-60069ddd7acc"
      },
      "outputs": [
        {
          "output_type": "execute_result",
          "data": {
            "text/plain": [
              "   MedInc  HouseAge  AveRooms  AveBedrms  Population  AveOccup  Latitude  \\\n",
              "0  8.3252      41.0  6.984127   1.023810       322.0  2.555556     37.88   \n",
              "1  8.3014      21.0  6.238137   0.971880      2401.0  2.109842     37.86   \n",
              "2  7.2574      52.0  8.288136   1.073446       496.0  2.802260     37.85   \n",
              "3  5.6431      52.0  5.817352   1.073059       558.0  2.547945     37.85   \n",
              "4  3.8462      52.0  6.281853   1.081081       565.0  2.181467     37.85   \n",
              "\n",
              "   Longitude  target  \n",
              "0    -122.23   4.526  \n",
              "1    -122.22   3.585  \n",
              "2    -122.24   3.521  \n",
              "3    -122.25   3.413  \n",
              "4    -122.25   3.422  "
            ],
            "text/html": [
              "\n",
              "  <div id=\"df-81584eb9-9cc3-4437-a2fa-29053f6b8be3\">\n",
              "    <div class=\"colab-df-container\">\n",
              "      <div>\n",
              "<style scoped>\n",
              "    .dataframe tbody tr th:only-of-type {\n",
              "        vertical-align: middle;\n",
              "    }\n",
              "\n",
              "    .dataframe tbody tr th {\n",
              "        vertical-align: top;\n",
              "    }\n",
              "\n",
              "    .dataframe thead th {\n",
              "        text-align: right;\n",
              "    }\n",
              "</style>\n",
              "<table border=\"1\" class=\"dataframe\">\n",
              "  <thead>\n",
              "    <tr style=\"text-align: right;\">\n",
              "      <th></th>\n",
              "      <th>MedInc</th>\n",
              "      <th>HouseAge</th>\n",
              "      <th>AveRooms</th>\n",
              "      <th>AveBedrms</th>\n",
              "      <th>Population</th>\n",
              "      <th>AveOccup</th>\n",
              "      <th>Latitude</th>\n",
              "      <th>Longitude</th>\n",
              "      <th>target</th>\n",
              "    </tr>\n",
              "  </thead>\n",
              "  <tbody>\n",
              "    <tr>\n",
              "      <th>0</th>\n",
              "      <td>8.3252</td>\n",
              "      <td>41.0</td>\n",
              "      <td>6.984127</td>\n",
              "      <td>1.023810</td>\n",
              "      <td>322.0</td>\n",
              "      <td>2.555556</td>\n",
              "      <td>37.88</td>\n",
              "      <td>-122.23</td>\n",
              "      <td>4.526</td>\n",
              "    </tr>\n",
              "    <tr>\n",
              "      <th>1</th>\n",
              "      <td>8.3014</td>\n",
              "      <td>21.0</td>\n",
              "      <td>6.238137</td>\n",
              "      <td>0.971880</td>\n",
              "      <td>2401.0</td>\n",
              "      <td>2.109842</td>\n",
              "      <td>37.86</td>\n",
              "      <td>-122.22</td>\n",
              "      <td>3.585</td>\n",
              "    </tr>\n",
              "    <tr>\n",
              "      <th>2</th>\n",
              "      <td>7.2574</td>\n",
              "      <td>52.0</td>\n",
              "      <td>8.288136</td>\n",
              "      <td>1.073446</td>\n",
              "      <td>496.0</td>\n",
              "      <td>2.802260</td>\n",
              "      <td>37.85</td>\n",
              "      <td>-122.24</td>\n",
              "      <td>3.521</td>\n",
              "    </tr>\n",
              "    <tr>\n",
              "      <th>3</th>\n",
              "      <td>5.6431</td>\n",
              "      <td>52.0</td>\n",
              "      <td>5.817352</td>\n",
              "      <td>1.073059</td>\n",
              "      <td>558.0</td>\n",
              "      <td>2.547945</td>\n",
              "      <td>37.85</td>\n",
              "      <td>-122.25</td>\n",
              "      <td>3.413</td>\n",
              "    </tr>\n",
              "    <tr>\n",
              "      <th>4</th>\n",
              "      <td>3.8462</td>\n",
              "      <td>52.0</td>\n",
              "      <td>6.281853</td>\n",
              "      <td>1.081081</td>\n",
              "      <td>565.0</td>\n",
              "      <td>2.181467</td>\n",
              "      <td>37.85</td>\n",
              "      <td>-122.25</td>\n",
              "      <td>3.422</td>\n",
              "    </tr>\n",
              "  </tbody>\n",
              "</table>\n",
              "</div>\n",
              "      <button class=\"colab-df-convert\" onclick=\"convertToInteractive('df-81584eb9-9cc3-4437-a2fa-29053f6b8be3')\"\n",
              "              title=\"Convert this dataframe to an interactive table.\"\n",
              "              style=\"display:none;\">\n",
              "        \n",
              "  <svg xmlns=\"http://www.w3.org/2000/svg\" height=\"24px\"viewBox=\"0 0 24 24\"\n",
              "       width=\"24px\">\n",
              "    <path d=\"M0 0h24v24H0V0z\" fill=\"none\"/>\n",
              "    <path d=\"M18.56 5.44l.94 2.06.94-2.06 2.06-.94-2.06-.94-.94-2.06-.94 2.06-2.06.94zm-11 1L8.5 8.5l.94-2.06 2.06-.94-2.06-.94L8.5 2.5l-.94 2.06-2.06.94zm10 10l.94 2.06.94-2.06 2.06-.94-2.06-.94-.94-2.06-.94 2.06-2.06.94z\"/><path d=\"M17.41 7.96l-1.37-1.37c-.4-.4-.92-.59-1.43-.59-.52 0-1.04.2-1.43.59L10.3 9.45l-7.72 7.72c-.78.78-.78 2.05 0 2.83L4 21.41c.39.39.9.59 1.41.59.51 0 1.02-.2 1.41-.59l7.78-7.78 2.81-2.81c.8-.78.8-2.07 0-2.86zM5.41 20L4 18.59l7.72-7.72 1.47 1.35L5.41 20z\"/>\n",
              "  </svg>\n",
              "      </button>\n",
              "      \n",
              "  <style>\n",
              "    .colab-df-container {\n",
              "      display:flex;\n",
              "      flex-wrap:wrap;\n",
              "      gap: 12px;\n",
              "    }\n",
              "\n",
              "    .colab-df-convert {\n",
              "      background-color: #E8F0FE;\n",
              "      border: none;\n",
              "      border-radius: 50%;\n",
              "      cursor: pointer;\n",
              "      display: none;\n",
              "      fill: #1967D2;\n",
              "      height: 32px;\n",
              "      padding: 0 0 0 0;\n",
              "      width: 32px;\n",
              "    }\n",
              "\n",
              "    .colab-df-convert:hover {\n",
              "      background-color: #E2EBFA;\n",
              "      box-shadow: 0px 1px 2px rgba(60, 64, 67, 0.3), 0px 1px 3px 1px rgba(60, 64, 67, 0.15);\n",
              "      fill: #174EA6;\n",
              "    }\n",
              "\n",
              "    [theme=dark] .colab-df-convert {\n",
              "      background-color: #3B4455;\n",
              "      fill: #D2E3FC;\n",
              "    }\n",
              "\n",
              "    [theme=dark] .colab-df-convert:hover {\n",
              "      background-color: #434B5C;\n",
              "      box-shadow: 0px 1px 3px 1px rgba(0, 0, 0, 0.15);\n",
              "      filter: drop-shadow(0px 1px 2px rgba(0, 0, 0, 0.3));\n",
              "      fill: #FFFFFF;\n",
              "    }\n",
              "  </style>\n",
              "\n",
              "      <script>\n",
              "        const buttonEl =\n",
              "          document.querySelector('#df-81584eb9-9cc3-4437-a2fa-29053f6b8be3 button.colab-df-convert');\n",
              "        buttonEl.style.display =\n",
              "          google.colab.kernel.accessAllowed ? 'block' : 'none';\n",
              "\n",
              "        async function convertToInteractive(key) {\n",
              "          const element = document.querySelector('#df-81584eb9-9cc3-4437-a2fa-29053f6b8be3');\n",
              "          const dataTable =\n",
              "            await google.colab.kernel.invokeFunction('convertToInteractive',\n",
              "                                                     [key], {});\n",
              "          if (!dataTable) return;\n",
              "\n",
              "          const docLinkHtml = 'Like what you see? Visit the ' +\n",
              "            '<a target=\"_blank\" href=https://colab.research.google.com/notebooks/data_table.ipynb>data table notebook</a>'\n",
              "            + ' to learn more about interactive tables.';\n",
              "          element.innerHTML = '';\n",
              "          dataTable['output_type'] = 'display_data';\n",
              "          await google.colab.output.renderOutput(dataTable, element);\n",
              "          const docLink = document.createElement('div');\n",
              "          docLink.innerHTML = docLinkHtml;\n",
              "          element.appendChild(docLink);\n",
              "        }\n",
              "      </script>\n",
              "    </div>\n",
              "  </div>\n",
              "  "
            ]
          },
          "metadata": {},
          "execution_count": 3
        }
      ],
      "source": [
        "# Put the dataset along with the target variable in a pandas dataframe\n",
        "data = pd.DataFrame(housing.data, columns=housing.feature_names)\n",
        "# Add target to data\n",
        "data['target'] = housing['target']\n",
        "data.head()"
      ]
    },
    {
      "cell_type": "markdown",
      "metadata": {
        "id": "iUKCBbP1-LK_"
      },
      "source": [
        "### Part 1a : Check for missing values in the dataset\n",
        "\n",
        "The dataset might have missing values represented by a `NaN`. Check if the dataset has such missing values."
      ]
    },
    {
      "cell_type": "code",
      "execution_count": 4,
      "metadata": {
        "deletable": false,
        "nbgrader": {
          "cell_type": "code",
          "checksum": "676197ad93aa1aa19b1e3898da4c017c",
          "grade": false,
          "grade_id": "p1a",
          "locked": false,
          "schema_version": 3,
          "solution": true,
          "task": false
        },
        "tags": [],
        "id": "YwxzRlCr-LK_"
      },
      "outputs": [],
      "source": [
        "# Check for missing values\n",
        "def is_null(dataframe):\n",
        "    \"\"\"\n",
        "    This function takes as input a pandas dataframe and outputs whether the\n",
        "    dataframe has missing values. Missing values can be detected by checking\n",
        "    for the presence of None or NaN. inf or -inf must also be treated as a missing value.\n",
        "\n",
        "    Input:\n",
        "        dataframe: Pandas dataframe\n",
        "    Output:\n",
        "        Return True is there are missing value in the dataframe. If not, return False.\n",
        "    \"\"\"\n",
        "    # YOUR CODE HERE\n",
        "    count = np.isinf(dataframe).values.sum() + dataframe.isnull().sum().sum()\n",
        "    if count == 0:\n",
        "      return False\n",
        "    else:\n",
        "      return True\n",
        "    # raise NotImplementedError()"
      ]
    },
    {
      "cell_type": "code",
      "execution_count": 5,
      "metadata": {
        "deletable": false,
        "editable": false,
        "nbgrader": {
          "cell_type": "code",
          "checksum": "b933622008a9e4a077e1b2a8c239554e",
          "grade": true,
          "grade_id": "p1a-test",
          "locked": true,
          "points": 1,
          "schema_version": 3,
          "solution": false,
          "task": false
        },
        "tags": [],
        "colab": {
          "base_uri": "https://localhost:8080/"
        },
        "id": "btAMXue--LLA",
        "outputId": "3abb9a9e-ddc8-4616-f132-c415002ca553"
      },
      "outputs": [
        {
          "output_type": "stream",
          "name": "stdout",
          "text": [
            "The data has no missing values.\n"
          ]
        }
      ],
      "source": [
        "# === DO NOT MOVE/DELETE ===\n",
        "# This cell is used as a placeholder for autograder script injection.\n",
        "\n",
        "# This dataset has no null values; you can run this cell as a sanity check.\n",
        "print(f\"The data has{'' if is_null(data) else ' no'} missing values.\")\n",
        "assert not is_null(data)"
      ]
    },
    {
      "cell_type": "markdown",
      "metadata": {
        "tags": [],
        "id": "WBPX1UK1-LLB"
      },
      "source": [
        "### Part 1b: Studying the distribution of the target variable\n",
        "\n",
        "Plot the histogram of the target variable over a fixed number of bins (say, 30).\n",
        "\n",
        "Example histogram output:\n",
        "\n",
        "![Target histogram](https://jeffcui.com/misc/target_histogram.png)\n",
        "\n",
        "Hint: Use the histogram plotting function available in Seaborn in Matplotlib."
      ]
    },
    {
      "cell_type": "code",
      "execution_count": 6,
      "metadata": {
        "deletable": false,
        "nbgrader": {
          "cell_type": "code",
          "checksum": "b8d012221610349c7d2434b577a4ce32",
          "grade": true,
          "grade_id": "p1b",
          "locked": false,
          "points": 1,
          "schema_version": 3,
          "solution": true,
          "task": false
        },
        "tags": [],
        "colab": {
          "base_uri": "https://localhost:8080/",
          "height": 519
        },
        "id": "tgcXkeUe-LLB",
        "outputId": "ecd4c020-e721-4add-dd78-51e5c86c3671"
      },
      "outputs": [
        {
          "output_type": "execute_result",
          "data": {
            "text/plain": [
              "<matplotlib.axes._subplots.AxesSubplot at 0x7f58de49bc50>"
            ]
          },
          "metadata": {},
          "execution_count": 6
        },
        {
          "output_type": "display_data",
          "data": {
            "text/plain": [
              "<Figure size 864x576 with 1 Axes>"
            ],
            "image/png": "[encoded data removed]"
          },
          "metadata": {}
        }
      ],
      "source": [
        "# Plot histogram of target variable\n",
        "\n",
        "# YOUR CODE HERE\n",
        "sns.set(rc={\"figure.figsize\":(12, 8)}) \n",
        "sns.histplot(data = data , x = \"target\", bins = 30)\n",
        "# raise NotImplementedError()"
      ]
    },
    {
      "cell_type": "markdown",
      "metadata": {
        "id": "7cljX7cx-LLC"
      },
      "source": [
        "### Part 1c: Plotting the correlation matrix\n",
        "Given the dataset stored in the `data` variable, plot the correlation matrix for the dataset. The dataset has 9 variables (8 features and one target variable) and thus, the correlation matrix must have a size of `9x9`.\n",
        "\n",
        "Hint: You may use the correlation matrix computation of a dataset provided by the `pandas` library.\n",
        "\n",
        "Link: [What is a correlation matrix?](https://www.displayr.com/what-is-a-correlation-matrix/)"
      ]
    },
    {
      "cell_type": "code",
      "execution_count": 7,
      "metadata": {
        "deletable": false,
        "nbgrader": {
          "cell_type": "code",
          "checksum": "b083172c548f71f3f9515e487a868fa1",
          "grade": false,
          "grade_id": "p1c",
          "locked": false,
          "schema_version": 3,
          "solution": true,
          "task": false
        },
        "tags": [],
        "colab": {
          "base_uri": "https://localhost:8080/",
          "height": 559
        },
        "id": "-lBacwxp-LLC",
        "outputId": "d3ef0928-205f-42ba-9bd0-fdfe262d7f26"
      },
      "outputs": [
        {
          "output_type": "execute_result",
          "data": {
            "text/plain": [
              "<matplotlib.axes._subplots.AxesSubplot at 0x7f58dd8bb8d0>"
            ]
          },
          "metadata": {},
          "execution_count": 7
        },
        {
          "output_type": "display_data",
          "data": {
            "text/plain": [
              "<Figure size 864x576 with 2 Axes>"
            ],
            "image/png": "[encoded data removed]"
          },
          "metadata": {}
        }
      ],
      "source": [
        "# Correlation matrix\n",
        "def get_correlation_matrix(dataframe):\n",
        "    \"\"\"\n",
        "    Given a pandas dataframe, obtain the correlation matrix\n",
        "    computing the correlation between the entities in the dataset.\n",
        "\n",
        "    Input:\n",
        "        dataframe: Pandas dataframe\n",
        "    Output:\n",
        "        Return the correlation matrix as a pandas dataframe, rounded off to 2 decimal places.\n",
        "    \"\"\"\n",
        "    # YOUR CODE HERE\n",
        "    correlation_matirx = dataframe.corr()\n",
        "    return correlation_matirx\n",
        "    # raise NotImplementedError()\n",
        "\n",
        "# Plot the correlation matrix\n",
        "correlation_matrix = get_correlation_matrix(data)\n",
        "# annot = True to print the values inside the square\n",
        "sns.heatmap(data=correlation_matrix, annot=True)"
      ]
    },
    {
      "cell_type": "code",
      "execution_count": 8,
      "metadata": {
        "deletable": false,
        "editable": false,
        "nbgrader": {
          "cell_type": "code",
          "checksum": "deeb1bce3582f0d0f8ac169145d4838f",
          "grade": true,
          "grade_id": "p1c-test",
          "locked": true,
          "points": 1,
          "schema_version": 3,
          "solution": false,
          "task": false
        },
        "tags": [],
        "id": "j7MBaS7Q-LLD"
      },
      "outputs": [],
      "source": [
        "# === DO NOT MOVE/DELETE ===\n",
        "# This cell is used as a placeholder for autograder script injection.\n",
        "\n",
        "# You can check your output against the expected correlation matrix below:\n",
        "ground_truth = np.array([\n",
        "    [1.0, -0.12, 0.33, -0.06, 0.0, 0.02, -0.08, -0.02, 0.69],\n",
        "    [-0.12, 1.0, -0.15, -0.08, -0.3, 0.01, 0.01, -0.11, 0.11],\n",
        "    [0.33, -0.15, 1.0, 0.85, -0.07, 0.0, 0.11, -0.03, 0.15],\n",
        "    [-0.06, -0.08, 0.85, 1.0, -0.07, -0.01, 0.07, 0.01, -0.05],\n",
        "    [0.0, -0.3, -0.07, -0.07, 1.0, 0.07, -0.11, 0.1, -0.02],\n",
        "    [0.02, 0.01, 0.0, -0.01, 0.07, 1.0, 0.0, 0.0, -0.02],\n",
        "    [-0.08, 0.01, 0.11, 0.07, -0.11, 0.0, 1.0, -0.92, -0.14],\n",
        "    [-0.02, -0.11, -0.03, 0.01, 0.1, 0.0, -0.92, 1.0, -0.05],\n",
        "    [0.69, 0.11, 0.15, -0.05, -0.02, -0.02, -0.14, -0.05, 1.0],\n",
        "])\n",
        "assert np.allclose(ground_truth, get_correlation_matrix(data).to_numpy(), rtol=1e-2, atol=1e-2)"
      ]
    },
    {
      "cell_type": "markdown",
      "metadata": {
        "id": "fdLLflpp-LLD"
      },
      "source": [
        "### Part 1d: Extracting relevant variables\n",
        "\n",
        "Based on the correlation matrix obtained in the previous part, identify the top-4 most relevant features from the dataset for predicting the target variable."
      ]
    },
    {
      "cell_type": "markdown",
      "source": [
        "1. Medlnc\n",
        "2. AveRooms\n",
        "3. Latitude\n",
        "4. HouseAge"
      ],
      "metadata": {
        "id": "KCGRhB6CN5tb"
      }
    },
    {
      "cell_type": "markdown",
      "metadata": {
        "id": "pBSkz2rU-LLD"
      },
      "source": [
        "## Part 2: Data Manipulation\n",
        "\n",
        "This section is focused on arranging the dataset in a format suitable for training the linear regression model."
      ]
    },
    {
      "cell_type": "markdown",
      "metadata": {
        "id": "gOiQ3g2s-LLE"
      },
      "source": [
        "### Part 2a: Normalize the dataset\n",
        "\n",
        "Find the mean and standard deviation corresponding to each feature and target variable in the dataset. Use the values of the mean and standard deviation to normalize the dataset."
      ]
    },
    {
      "cell_type": "code",
      "execution_count": 9,
      "metadata": {
        "deletable": false,
        "nbgrader": {
          "cell_type": "code",
          "checksum": "71860eb9c74a47052a1d855b229b0083",
          "grade": false,
          "grade_id": "p2a",
          "locked": false,
          "schema_version": 3,
          "solution": true,
          "task": false
        },
        "tags": [],
        "id": "CCCw0C6u-LLE"
      },
      "outputs": [],
      "source": [
        "features = np.concatenate([data[name].to_numpy()[:, None] for name in housing['feature_names']], axis=1)\n",
        "target = housing['target']\n",
        "\n",
        "# Normalize data\n",
        "def normalize(features, target):\n",
        "    # YOUR CODE HERE\n",
        "\n",
        "    features_std = np.std(features, axis = 0)\n",
        "    features_mean = np.mean(features, axis =0)\n",
        "    features_normalized = (features - features_mean)/(features_std)\n",
        "    \n",
        "    target_std = np.std(target, axis = 0)\n",
        "    target_mean = np.mean(target, axis =0)\n",
        "    target_normalized = (target - target_mean)/(target_std)\n",
        "\n",
        "    return features_normalized, target_normalized\n",
        "    # raise NotImplementedError()\n",
        "\n",
        "features_normalized, target_normalized = normalize(features, target)"
      ]
    },
    {
      "cell_type": "code",
      "execution_count": 10,
      "metadata": {
        "deletable": false,
        "editable": false,
        "nbgrader": {
          "cell_type": "code",
          "checksum": "6cd6918ed1d597848bbd2c42e3eee9de",
          "grade": true,
          "grade_id": "p2a-test",
          "locked": true,
          "points": 1,
          "schema_version": 3,
          "solution": false,
          "task": false
        },
        "tags": [],
        "id": "DqfwdfDv-LLE"
      },
      "outputs": [],
      "source": [
        "# === DO NOT MOVE/DELETE ===\n",
        "# This cell is used as a placeholder for autograder script injection.\n",
        "assert all(np.abs(features_normalized.mean(axis=0)) < 1e-2), \"Mean should be close to 0\"\n",
        "assert all(np.abs(features_normalized.std(axis=0) - 1) < 1e-2), \"Standard deviation should be close to 1\"\n",
        "assert np.abs(target_normalized.mean(axis=0)) < 1e-2, \"Mean should be close to 0\"\n",
        "assert np.abs(target_normalized.std(axis=0) - 1) < 1e-2, \"Standard deviation should be close to 1\""
      ]
    },
    {
      "cell_type": "markdown",
      "metadata": {
        "id": "SaQbYX6j-LLE"
      },
      "source": [
        "### Part 2b: Train-Test Split\n",
        "\n",
        "Use the train-test split function from `sklearn` and execute a 80-20 train-test split of the dataset."
      ]
    },
    {
      "cell_type": "code",
      "execution_count": 11,
      "metadata": {
        "deletable": false,
        "nbgrader": {
          "cell_type": "code",
          "checksum": "e24ac49c957cd3d0a2b12fe65992c0da",
          "grade": false,
          "grade_id": "p2b",
          "locked": false,
          "schema_version": 3,
          "solution": true,
          "task": false
        },
        "tags": [],
        "id": "VJ6BW2qk-LLF"
      },
      "outputs": [],
      "source": [
        "# YOUR CODE HERE\n",
        "from sklearn.model_selection import train_test_split\n",
        "X_train, X_test, Y_train, Y_test = train_test_split(features_normalized, target_normalized, test_size=0.2, random_state=0)\n",
        "# raise NotImplementedError()"
      ]
    },
    {
      "cell_type": "code",
      "execution_count": 12,
      "metadata": {
        "deletable": false,
        "editable": false,
        "nbgrader": {
          "cell_type": "code",
          "checksum": "6205e4ce42238093a9f51eca8c65f5a7",
          "grade": true,
          "grade_id": "p2b-test",
          "locked": true,
          "points": 1,
          "schema_version": 3,
          "solution": false,
          "task": false
        },
        "tags": [],
        "colab": {
          "base_uri": "https://localhost:8080/"
        },
        "id": "suBPuc20-LLF",
        "outputId": "0afe2a26-370c-40df-9f33-d44a38285548"
      },
      "outputs": [
        {
          "output_type": "stream",
          "name": "stdout",
          "text": [
            "(16512, 8)\n",
            "(4128, 8)\n",
            "(16512,)\n",
            "(4128,)\n"
          ]
        }
      ],
      "source": [
        "# === DO NOT MOVE/DELETE ===\n",
        "# This cell is used as a placeholder for autograder script injection.\n",
        "\n",
        "# Sanity checking:\n",
        "print(X_train.shape)\n",
        "print(X_test.shape)\n",
        "print(Y_train.shape)\n",
        "print(Y_test.shape)"
      ]
    },
    {
      "cell_type": "markdown",
      "metadata": {
        "id": "NAx4TYYr-LLF"
      },
      "source": [
        "## Part 3: Linear Regression\n",
        "\n",
        "In this part, a linear regression model is used to fit the dataset loaded and normalized above."
      ]
    },
    {
      "cell_type": "markdown",
      "metadata": {
        "id": "9-2MVS---LLF"
      },
      "source": [
        "### Part 3a: Code for Linear Regression\n",
        "Implement a closed-form solution for ordinary least squares linear regression in `MyLinearRegression`, and print out the RMSE and $R^2$ between the ground truth and the model prediction."
      ]
    },
    {
      "cell_type": "code",
      "execution_count": 35,
      "metadata": {
        "deletable": false,
        "nbgrader": {
          "cell_type": "code",
          "checksum": "874d0e119337f0c28ef1696777ff83f9",
          "grade": true,
          "grade_id": "p3a",
          "locked": false,
          "points": 1,
          "schema_version": 3,
          "solution": true,
          "task": false
        },
        "tags": [],
        "id": "42U6fqHd-LLG"
      },
      "outputs": [],
      "source": [
        "class MyLinearRegression:\n",
        "    def __init__(self):\n",
        "        self.theta = None\n",
        "    \n",
        "    def fit(self, X, Y):\n",
        "        # Given X and Y, compute theta using the closed-form solution for linear regression.\n",
        "        # YOUR CODE HERE\n",
        "        # Compute (X^T X)^(-1)\n",
        "        part1 = np.dot(X.T, X)\n",
        "        # Compute (X^T Y)\n",
        "        part2 = np.dot(X.T, Y)\n",
        "        # Compute theta = (X^T X)^(-1) (X^T Y)\n",
        "        self.theta = np.linalg.solve(part1, part2)\n",
        "        # raise NotImplementedError()\n",
        "    \n",
        "    def predict(self, X):\n",
        "        # Predict Y for a given X\n",
        "        # YOUR CODE HERE\n",
        "        return np.dot(X, self.theta)\n",
        "        # raise NotImplementedError()"
      ]
    },
    {
      "cell_type": "code",
      "execution_count": 36,
      "metadata": {
        "id": "pSykHQ1G-LLG"
      },
      "outputs": [],
      "source": [
        "# Train the model on (X_train, Y_train) using Linear Regression \n",
        "my_model = MyLinearRegression()\n",
        "my_model.fit(X_train, Y_train)"
      ]
    },
    {
      "cell_type": "code",
      "execution_count": 37,
      "metadata": {
        "colab": {
          "base_uri": "https://localhost:8080/"
        },
        "id": "lPPNsbfZ-LLG",
        "outputId": "b1a77bde-f2d8-44c6-eba3-1dc850bcd686"
      },
      "outputs": [
        {
          "output_type": "stream",
          "name": "stdout",
          "text": [
            "The model performance for training set\n",
            "--------------------------------------\n",
            "RMSE is 0.6269848126925497\n",
            "R2 score is 0.608893585337847\n",
            "\n",
            "\n",
            "The model performance for testing set\n",
            "--------------------------------------\n",
            "RMSE is 0.6302717773501297\n",
            "R2 score is 0.5943507042437144\n"
          ]
        }
      ],
      "source": [
        "from sklearn.metrics import mean_squared_error, r2_score\n",
        "\n",
        "# Compute train RMSE using (X_train, Y_train)\n",
        "def train_metrics(X_train, Y_train, my_model):\n",
        "    y_train_predict = my_model.predict(X_train)\n",
        "    train_rmse = (np.sqrt(mean_squared_error(Y_train, y_train_predict)))\n",
        "    train_r2 = r2_score(Y_train, y_train_predict)\n",
        "    print(\"The model performance for training set\")\n",
        "    print(\"--------------------------------------\")\n",
        "    print('RMSE is {}'.format(train_rmse))\n",
        "    print('R2 score is {}'.format(train_r2))\n",
        "    print(\"\\n\")\n",
        "\n",
        "# Compute test RMSE using (X_test, Y_test)\n",
        "def test_metrics(X_test, Y_test, my_model):\n",
        "    y_test_predict = my_model.predict(X_test)\n",
        "    test_rmse = (np.sqrt(mean_squared_error(Y_test, y_test_predict)))\n",
        "    test_r2 = r2_score(Y_test, y_test_predict)\n",
        "    print(\"The model performance for testing set\")\n",
        "    print(\"--------------------------------------\")\n",
        "    print('RMSE is {}'.format(test_rmse))\n",
        "    print('R2 score is {}'.format(test_r2))\n",
        "\n",
        "train_metrics(X_train, Y_train, my_model)\n",
        "test_metrics(X_test, Y_test, my_model)"
      ]
    },
    {
      "cell_type": "markdown",
      "metadata": {
        "id": "GLmj9la0-LLG"
      },
      "source": [
        "### Part 3b: Compare with LinearRegression from sklearn.linear_model\n",
        "\n",
        "Use LinearRegression from the `sklearn` package to fit the dataset and compare the results obtained with your own implementaion of Linear Regression.\n",
        "\n",
        "The linear regressor should be named `model` for the cells below to run properly."
      ]
    },
    {
      "cell_type": "code",
      "execution_count": 38,
      "metadata": {
        "deletable": false,
        "nbgrader": {
          "cell_type": "code",
          "checksum": "2625c21f986f722c490d8fd6a3299db8",
          "grade": true,
          "grade_id": "p3b",
          "locked": false,
          "points": 1,
          "schema_version": 3,
          "solution": true,
          "task": false
        },
        "tags": [],
        "id": "TDpi-hZj-LLG"
      },
      "outputs": [],
      "source": [
        "# YOUR CODE HERE\n",
        "from sklearn.linear_model import LinearRegression\n",
        "model = LinearRegression().fit(X_train, Y_train)\n",
        "# raise NotImplementedError()"
      ]
    },
    {
      "cell_type": "code",
      "execution_count": 39,
      "metadata": {
        "colab": {
          "base_uri": "https://localhost:8080/"
        },
        "id": "bszA-SwL-LLG",
        "outputId": "887e5a43-ce57-4131-f630-6525c836515b"
      },
      "outputs": [
        {
          "output_type": "stream",
          "name": "stdout",
          "text": [
            "The model performance for training set\n",
            "--------------------------------------\n",
            "RMSE is 0.626982226453801\n",
            "R2 score is 0.6088968118672872\n",
            "\n",
            "\n",
            "The model performance for testing set\n",
            "--------------------------------------\n",
            "RMSE is 0.6302930934638351\n",
            "R2 score is 0.5943232652466204\n"
          ]
        }
      ],
      "source": [
        "# model evaluation for training set\n",
        "y_train_predict = model.predict(X_train)\n",
        "sklearn_train_rmse = (np.sqrt(mean_squared_error(Y_train, y_train_predict)))\n",
        "sklearn_train_r2 = r2_score(Y_train, y_train_predict)\n",
        "\n",
        "print(\"The model performance for training set\")\n",
        "print(\"--------------------------------------\")\n",
        "print('RMSE is {}'.format(sklearn_train_rmse))\n",
        "print('R2 score is {}'.format(sklearn_train_r2))\n",
        "print(\"\\n\")\n",
        "\n",
        "# model evaluation for testing set\n",
        "y_test_predict = model.predict(X_test)\n",
        "sklearn_test_rmse = (np.sqrt(mean_squared_error(Y_test, y_test_predict)))\n",
        "sklearn_test_r2 = r2_score(Y_test, y_test_predict)\n",
        "\n",
        "print(\"The model performance for testing set\")\n",
        "print(\"--------------------------------------\")\n",
        "print('RMSE is {}'.format(sklearn_test_rmse))\n",
        "print('R2 score is {}'.format(sklearn_test_r2))"
      ]
    },
    {
      "cell_type": "markdown",
      "metadata": {
        "id": "XDFrVX5B-LLH"
      },
      "source": [
        "### Part 3c: Analysis Linear Regression Performance\n",
        "\n",
        "In this section, provide the observed difference in performance along with an explanation of the following:\n",
        "- Difference between training between unnormalized and normalized data.\n",
        "- Difference between training on all features versus training on the top-4 most relevant features in the dataset.\n",
        "- Difference between (1) training on all features (unnormalized), (2) training on top-4 unnormalized features, and (3) training on top-4 normalized features.\n",
        "\n",
        "Write your answer below."
      ]
    },
    {
      "cell_type": "code",
      "source": [
        "# (1) Traning unnormalized data on all features\n",
        "print(\"Model: unnormalized data(all features)\")\n",
        "X_train_unnor, X_test_unnor, Y_train_unnor, Y_test_unnor = train_test_split(features, target, test_size=0.2, random_state=0)\n",
        "my_model.fit(X_train_unnor, Y_train_unnor)\n",
        "\n",
        "train_metrics(X_train_unnor, Y_train_unnor, my_model)\n",
        "test_metrics(X_test_unnor, Y_test_unnor, my_model)"
      ],
      "metadata": {
        "colab": {
          "base_uri": "https://localhost:8080/"
        },
        "id": "8zYvyTORnl6G",
        "outputId": "bab6a2b6-c8ce-47c8-ab54-c80e2b9cc189"
      },
      "execution_count": 40,
      "outputs": [
        {
          "output_type": "stream",
          "name": "stdout",
          "text": [
            "Model: unnormalized data(all features)\n",
            "The model performance for training set\n",
            "--------------------------------------\n",
            "RMSE is 0.7763476606405088\n",
            "R2 score is 0.5496648800413839\n",
            "\n",
            "\n",
            "The model performance for testing set\n",
            "--------------------------------------\n",
            "RMSE is 0.7823476431899948\n",
            "R2 score is 0.5306065925145123\n"
          ]
        }
      ]
    },
    {
      "cell_type": "code",
      "source": [
        "# (2) training unnormalized data on the top-4 most relevant features (Medlnc, HouseAge, AveRooms, Latitude)\n",
        "print(\"Model: unnormalized data(top4 relevant features)\")\n",
        "X_train_unnor_new = X_train_unnor[:,[0,1,2,6]]\n",
        "X_test_unnor_new = X_test_unnor[:,[0,1,2,6]]\n",
        "my_model.fit(X_train_unnor_new, Y_train_unnor)\n",
        "\n",
        "train_metrics(X_train_unnor_new, Y_train_unnor, my_model)\n",
        "test_metrics(X_test_unnor_new, Y_test_unnor, my_model)"
      ],
      "metadata": {
        "colab": {
          "base_uri": "https://localhost:8080/"
        },
        "id": "RqUUwe4Br3es",
        "outputId": "5f189158-7795-4df0-ba27-5ed9b8b23b3d"
      },
      "execution_count": 41,
      "outputs": [
        {
          "output_type": "stream",
          "name": "stdout",
          "text": [
            "Model: unnormalized data(top4 relevant features)\n",
            "The model performance for training set\n",
            "--------------------------------------\n",
            "RMSE is 0.8030689808406747\n",
            "R2 score is 0.5181309615487499\n",
            "\n",
            "\n",
            "The model performance for testing set\n",
            "--------------------------------------\n",
            "RMSE is 0.8170413397548135\n",
            "R2 score is 0.48805242444865515\n"
          ]
        }
      ]
    },
    {
      "cell_type": "code",
      "source": [
        "# (3) training normalized data on the top-4 most relevant features (Medlnc, HouseAge, AveRooms, Latitude)\n",
        "print(\"Model: normalized data(top4 relevant features)\")\n",
        "X_train_new = X_train[:,[0,1,2,6]]\n",
        "X_test_new = X_test[:,[0,1,2,6]]\n",
        "my_model.fit(X_train_new, Y_train)\n",
        "\n",
        "train_metrics(X_train_new, Y_train, my_model)\n",
        "test_metrics(X_test_new, Y_test, my_model)"
      ],
      "metadata": {
        "colab": {
          "base_uri": "https://localhost:8080/"
        },
        "id": "40wmhNTMpPJC",
        "outputId": "642e80a6-7e07-451d-82e1-f7084b72b21f"
      },
      "execution_count": 42,
      "outputs": [
        {
          "output_type": "stream",
          "name": "stdout",
          "text": [
            "Model: normalized data(top4 relevant features)\n",
            "The model performance for training set\n",
            "--------------------------------------\n",
            "RMSE is 0.6913056757787523\n",
            "R2 score is 0.5245321658472841\n",
            "\n",
            "\n",
            "The model performance for testing set\n",
            "--------------------------------------\n",
            "RMSE is 0.7025733697847857\n",
            "R2 score is 0.4959444812537642\n"
          ]
        }
      ]
    },
    {
      "cell_type": "markdown",
      "metadata": {
        "deletable": false,
        "nbgrader": {
          "cell_type": "markdown",
          "checksum": "a371e76ca5caa75cbda4e6ea5cfb8c21",
          "grade": true,
          "grade_id": "p3c",
          "locked": false,
          "points": 1,
          "schema_version": 3,
          "solution": true,
          "task": false
        },
        "tags": [],
        "id": "KoRrOJ2X-LLH"
      },
      "source": [
        "YOUR ANSWER HERE"
      ]
    },
    {
      "cell_type": "code",
      "source": [
        "from tabulate import tabulate\n",
        "evaluation_data = [[\"normalized data(all features)\", 0.62698, 0.60889, 0.63027, 0.59435], \n",
        "                   [\"unnormalized data(all features)\", 0.77635, 0.54966, 0.78235, 0.53061], \n",
        "                   [\"normalized data(top4 relevant features)\", 0.80307, 0.51813, 0.81704, 0.48805], \n",
        "                   [\"unnormalized data(top4 relevant features)\", 0.69131, 0.52453, 0.70257, 0.49594]]\n",
        "            \n",
        "col_names = [\"Model\", \"RMSE_train\", \"R2_train\", \"RMSE_test\", \"R2_test\"]\n",
        "print(tabulate(evaluation_data, headers=col_names))"
      ],
      "metadata": {
        "colab": {
          "base_uri": "https://localhost:8080/"
        },
        "id": "0YYnh8Hzso4o",
        "outputId": "31de3b60-6f41-475a-e38c-1c6739e3c0a5"
      },
      "execution_count": 43,
      "outputs": [
        {
          "output_type": "stream",
          "name": "stdout",
          "text": [
            "Model                                        RMSE_train    R2_train    RMSE_test    R2_test\n",
            "-----------------------------------------  ------------  ----------  -----------  ---------\n",
            "normalized data(all features)                   0.62698     0.60889      0.63027    0.59435\n",
            "unnormalized data(all features)                 0.77635     0.54966      0.78235    0.53061\n",
            "normalized data(top4 relevant features)         0.80307     0.51813      0.81704    0.48805\n",
            "unnormalized data(top4 relevant features)       0.69131     0.52453      0.70257    0.49594\n"
          ]
        }
      ]
    },
    {
      "cell_type": "markdown",
      "source": [
        "1. Difference between training between unnormalized and normalized data:\n",
        "* The RMSE of training set: unnormalized data > normalized data\n",
        "* The $R^2$ of training set: unnormalized data < normalized data\n",
        "* The RMSE of testing set: unnormalized data > normalized data\n",
        "* The $R^2$ of testing set: unnormalized data < normalized data\n",
        "---\n",
        "2. Difference between training on all features versus training on the top-4 most relevant features in the dataset.\n",
        "> (Normalized data)\n",
        "* The RMSE of training set: top4 > all\n",
        "* The $R^2$ of training set: top4 < all\n",
        "* The RMSE of testing set: top4 > all\n",
        "* The $R^2$ of testing set: top4 < all\n",
        "> (Unnormalized data)\n",
        "* In all cases: top4 < all\n",
        "---\n",
        "3. Difference between (1) training on all features (unnormalized), (2) training on top-4 unnormalized features, and (3) training on top-4 normalized features.\n",
        "* The RMSE of traning set: (3) > (1) > (2)\n",
        "* The $R^2$ of traning set: (1) > (2) > (3)\n",
        "* The RMSE of testing set: (3) > (1) > (2)\n",
        "* The $R^2$ of testing set: (1) > (2) > (3)"
      ],
      "metadata": {
        "id": "Gm5xZlg_ujVh"
      }
    }
  ],
  "metadata": {
    "kernelspec": {
      "display_name": "Python 3 (ipykernel)",
      "language": "python",
      "name": "python3"
    },
    "language_info": {
      "codemirror_mode": {
        "name": "ipython",
        "version": 3
      },
      "file_extension": ".py",
      "mimetype": "text/x-python",
      "name": "python",
      "nbconvert_exporter": "python",
      "pygments_lexer": "ipython3",
      "version": "3.8.13"
    },
    "vscode": {
      "interpreter": {
        "hash": "fc6f77fc95e5420108aa348103e4498d1d0de016cf7e1fd7da540445454c305d"
      }
    },
    "colab": {
      "provenance": [],
      "collapsed_sections": []
    }
  },
  "nbformat": 4,
  "nbformat_minor": 0
}